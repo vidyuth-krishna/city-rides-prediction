{
 "cells": [
  {
   "cell_type": "code",
   "execution_count": 2,
   "id": "e06f1a31",
   "metadata": {},
   "outputs": [],
   "source": [
    "import sys\n",
    "from pathlib import Path\n",
    "\n",
    "# Add project root to sys.path so `src/` can be imported\n",
    "sys.path.append(str(Path(\"..\").resolve()))\n"
   ]
  },
  {
   "cell_type": "code",
   "execution_count": 3,
   "id": "f38c3759",
   "metadata": {},
   "outputs": [],
   "source": [
    "import pandas as pd\n",
    "from pathlib import Path\n",
    "from src.data_utils import transform_ts_data_info_features_and_target_loop"
   ]
  },
  {
   "cell_type": "code",
   "execution_count": 4,
   "id": "f2ba6e89",
   "metadata": {},
   "outputs": [],
   "source": [
    "\n",
    "# === 1. Load hourly time series ===\n",
    "ts_data = pd.read_parquet(\"../data/transformed/top_3_hourly_timeseries.parquet\")"
   ]
  },
  {
   "cell_type": "code",
   "execution_count": 5,
   "id": "6a02d287",
   "metadata": {},
   "outputs": [],
   "source": [
    "# === 2. Transform to sliding-window tabular format ===\n",
    "features, targets = transform_ts_data_info_features_and_target_loop(\n",
    "    df=ts_data,\n",
    "    feature_col=\"rides\",\n",
    "    location_col=\"start_station_id\",\n",
    "    time_col=\"start_hour\",\n",
    "    window_size=24 * 28,  # past 28 days\n",
    "    step_size=24          # daily stride\n",
    ")"
   ]
  },
  {
   "cell_type": "code",
   "execution_count": 6,
   "id": "fef40d59",
   "metadata": {},
   "outputs": [],
   "source": [
    "# === 3. Combine features and target ===\n",
    "tabular_data = features.copy()\n",
    "tabular_data[\"target\"] = targets"
   ]
  },
  {
   "cell_type": "code",
   "execution_count": 7,
   "id": "57cb0c17",
   "metadata": {},
   "outputs": [
    {
     "name": "stdout",
     "output_type": "stream",
     "text": [
      "✅ Tabular dataset saved to: ..\\data\\transformed\\tabular_data.parquet\n"
     ]
    }
   ],
   "source": [
    "# === 4. Save to disk ===\n",
    "output_dir = Path(\"..\") / \"data\" / \"transformed\"\n",
    "output_dir.mkdir(parents=True, exist_ok=True)\n",
    "tabular_path = output_dir / \"tabular_data.parquet\"\n",
    "\n",
    "tabular_data.to_parquet(tabular_path, engine=\"pyarrow\", index=False)\n",
    "print(f\"✅ Tabular dataset saved to: {tabular_path}\")"
   ]
  },
  {
   "cell_type": "code",
   "execution_count": null,
   "id": "cc3d6640",
   "metadata": {},
   "outputs": [],
   "source": []
  }
 ],
 "metadata": {
  "kernelspec": {
   "display_name": "Python 3",
   "language": "python",
   "name": "python3"
  },
  "language_info": {
   "codemirror_mode": {
    "name": "ipython",
    "version": 3
   },
   "file_extension": ".py",
   "mimetype": "text/x-python",
   "name": "python",
   "nbconvert_exporter": "python",
   "pygments_lexer": "ipython3",
   "version": "3.11.0"
  }
 },
 "nbformat": 4,
 "nbformat_minor": 5
}
