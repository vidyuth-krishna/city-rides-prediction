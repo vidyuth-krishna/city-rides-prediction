{
 "cells": [
  {
   "cell_type": "code",
   "execution_count": 1,
   "id": "a197b135",
   "metadata": {},
   "outputs": [],
   "source": [
    "import sys\n",
    "from pathlib import Path\n",
    "\n",
    "# Add project root to sys.path so `src/` can be imported\n",
    "sys.path.append(str(Path(\"..\").resolve()))\n"
   ]
  },
  {
   "cell_type": "code",
   "execution_count": 3,
   "id": "b5495b20",
   "metadata": {},
   "outputs": [],
   "source": [
    "import pandas as pd\n",
    "import joblib\n",
    "import hopsworks\n",
    "from datetime import datetime, timedelta\n",
    "from pathlib import Path\n",
    "\n",
    "from src.config import (\n",
    "    HOPSWORKS_API_KEY,\n",
    "    HOPSWORKS_PROJECT_NAME,\n",
    "    FEATURE_VIEW_NAME,\n",
    "    FEATURE_VIEW_VERSION,\n",
    "    MODELS_DIR\n",
    ")\n",
    "from src.data_utils import transform_ts_data_info_features\n"
   ]
  },
  {
   "cell_type": "code",
   "execution_count": 5,
   "id": "db7722b9",
   "metadata": {},
   "outputs": [
    {
     "data": {
      "text/plain": [
       "True"
      ]
     },
     "execution_count": 5,
     "metadata": {},
     "output_type": "execute_result"
    }
   ],
   "source": [
    "from dotenv import load_dotenv\n",
    "\n",
    "load_dotenv()"
   ]
  },
  {
   "cell_type": "code",
   "execution_count": 6,
   "id": "6511c75a",
   "metadata": {},
   "outputs": [
    {
     "name": "stdout",
     "output_type": "stream",
     "text": [
      "2025-05-10 03:15:19,286 INFO: Closing external client and cleaning up certificates.\n",
      "2025-05-10 03:15:19,289 INFO: Initializing external client\n",
      "2025-05-10 03:15:19,289 INFO: Base URL: https://c.app.hopsworks.ai:443\n"
     ]
    },
    {
     "name": "stderr",
     "output_type": "stream",
     "text": [
      "\n",
      "\n",
      "UserWarning: The installed hopsworks client version 4.1.8 may not be compatible with the connected Hopsworks backend version 4.2.0. \n",
      "To ensure compatibility please install the latest bug fix release matching the minor version of your backend (4.2) by running 'pip install hopsworks==4.2.*'\n"
     ]
    },
    {
     "name": "stdout",
     "output_type": "stream",
     "text": [
      "2025-05-10 03:15:20,762 INFO: Python Engine initialized.\n",
      "\n",
      "Logged in to project, explore it here https://c.app.hopsworks.ai:443/p/1228959\n",
      "Finished: Reading data from Hopsworks, using Hopsworks Feature Query Service (0.68s) \n"
     ]
    },
    {
     "data": {
      "text/html": [
       "<div>\n",
       "<style scoped>\n",
       "    .dataframe tbody tr th:only-of-type {\n",
       "        vertical-align: middle;\n",
       "    }\n",
       "\n",
       "    .dataframe tbody tr th {\n",
       "        vertical-align: top;\n",
       "    }\n",
       "\n",
       "    .dataframe thead th {\n",
       "        text-align: right;\n",
       "    }\n",
       "</style>\n",
       "<table border=\"1\" class=\"dataframe\">\n",
       "  <thead>\n",
       "    <tr style=\"text-align: right;\">\n",
       "      <th></th>\n",
       "      <th>start_hour</th>\n",
       "      <th>start_station_id</th>\n",
       "      <th>rides</th>\n",
       "      <th>hour</th>\n",
       "      <th>day_of_week</th>\n",
       "      <th>is_weekend</th>\n",
       "      <th>month</th>\n",
       "      <th>date</th>\n",
       "    </tr>\n",
       "  </thead>\n",
       "  <tbody>\n",
       "  </tbody>\n",
       "</table>\n",
       "</div>"
      ],
      "text/plain": [
       "Empty DataFrame\n",
       "Columns: [start_hour, start_station_id, rides, hour, day_of_week, is_weekend, month, date]\n",
       "Index: []"
      ]
     },
     "execution_count": 6,
     "metadata": {},
     "output_type": "execute_result"
    }
   ],
   "source": [
    "project = hopsworks.login(api_key_value=HOPSWORKS_API_KEY, project=HOPSWORKS_PROJECT_NAME)\n",
    "fs = project.get_feature_store()\n",
    "fv = fs.get_feature_view(name=FEATURE_VIEW_NAME, version=FEATURE_VIEW_VERSION)\n",
    "\n",
    "predict_for_hour = pd.Timestamp.now(tz=\"UTC\").ceil(\"h\")\n",
    "start_time = predict_for_hour - timedelta(days=28)\n",
    "end_time = predict_for_hour - timedelta(hours=1)\n",
    "\n",
    "ts_data = fv.get_batch_data(start_time=start_time, end_time=end_time)\n",
    "ts_data = ts_data[ts_data[\"start_hour\"].between(start_time, end_time)].sort_values([\"start_station_id\", \"start_hour\"]).reset_index(drop=True)\n",
    "ts_data[\"start_hour\"] = pd.to_datetime(ts_data[\"start_hour\"])\n",
    "\n",
    "ts_data.tail()\n"
   ]
  },
  {
   "cell_type": "code",
   "execution_count": 10,
   "id": "cd726d56",
   "metadata": {},
   "outputs": [
    {
     "name": "stdout",
     "output_type": "stream",
     "text": [
      "(0, 8)\n"
     ]
    }
   ],
   "source": [
    "print(ts_data.shape)\n"
   ]
  }
 ],
 "metadata": {
  "kernelspec": {
   "display_name": "Python 3",
   "language": "python",
   "name": "python3"
  },
  "language_info": {
   "codemirror_mode": {
    "name": "ipython",
    "version": 3
   },
   "file_extension": ".py",
   "mimetype": "text/x-python",
   "name": "python",
   "nbconvert_exporter": "python",
   "pygments_lexer": "ipython3",
   "version": "3.11.0"
  }
 },
 "nbformat": 4,
 "nbformat_minor": 5
}
