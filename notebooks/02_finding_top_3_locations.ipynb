{
 "cells": [
  {
   "cell_type": "code",
   "execution_count": 1,
   "id": "c61d791b",
   "metadata": {},
   "outputs": [
    {
     "name": "stdout",
     "output_type": "stream",
     "text": [
      "     start_station_id       start_station_name  total_rides\n",
      "1163          6140.05          W 21 St & 6 Ave        67968\n",
      "1557          6822.09          1 Ave & E 68 St        57100\n",
      "1061          5905.14  University Pl & E 14 St        56148\n"
     ]
    }
   ],
   "source": [
    "import pandas as pd\n",
    "from pathlib import Path\n",
    "\n",
    "# Step 1: Load all 12 Parquet files\n",
    "raw_dir = Path(\"..\") / \"data\" / \"raw\"\n",
    "all_dfs = []\n",
    "\n",
    "for year in [2023, 2024]:\n",
    "    months = range(5, 13) if year == 2023 else range(1, 5)\n",
    "    for month in months:\n",
    "        path = raw_dir / f\"rides_{year}_{month:02}.parquet\"\n",
    "        df = pd.read_parquet(path)\n",
    "        all_dfs.append(df)\n",
    "\n",
    "df_all = pd.concat(all_dfs, ignore_index=True)\n",
    "\n",
    "# Step 2: Count rides per station\n",
    "top_stations = (\n",
    "    df_all.groupby([\"start_station_id\", \"start_station_name\"])\n",
    "    .size()\n",
    "    .reset_index(name=\"total_rides\")\n",
    "    .sort_values(\"total_rides\", ascending=False)\n",
    ")\n",
    "\n",
    "# Step 3: Get top 3\n",
    "top_3 = top_stations.head(3)\n",
    "print(top_3)\n"
   ]
  }
 ],
 "metadata": {
  "kernelspec": {
   "display_name": "Python 3",
   "language": "python",
   "name": "python3"
  },
  "language_info": {
   "codemirror_mode": {
    "name": "ipython",
    "version": 3
   },
   "file_extension": ".py",
   "mimetype": "text/x-python",
   "name": "python",
   "nbconvert_exporter": "python",
   "pygments_lexer": "ipython3",
   "version": "3.11.0"
  }
 },
 "nbformat": 4,
 "nbformat_minor": 5
}
