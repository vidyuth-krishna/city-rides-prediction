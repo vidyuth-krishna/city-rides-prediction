{
 "cells": [
  {
   "cell_type": "code",
   "execution_count": 1,
   "id": "59042c46",
   "metadata": {},
   "outputs": [],
   "source": [
    "import sys\n",
    "from pathlib import Path\n",
    "\n",
    "# Add project root to sys.path so `src/` can be imported\n",
    "sys.path.append(str(Path(\"..\").resolve()))\n"
   ]
  },
  {
   "cell_type": "code",
   "execution_count": 2,
   "id": "b28656e5",
   "metadata": {},
   "outputs": [
    {
     "name": "stderr",
     "output_type": "stream",
     "text": [
      "c:\\Users\\vidyu\\AppData\\Local\\Programs\\Python\\Python311\\Lib\\site-packages\\tqdm\\auto.py:21: TqdmWarning: IProgress not found. Please update jupyter and ipywidgets. See https://ipywidgets.readthedocs.io/en/stable/user_install.html\n",
      "  from .autonotebook import tqdm as notebook_tqdm\n"
     ]
    }
   ],
   "source": [
    "import hopsworks\n",
    "from datetime import datetime, timedelta\n",
    "import pandas as pd\n",
    "from src import config\n",
    "from src.data_utils import transform_ts_data_info_features_and_target, split_time_series_data"
   ]
  },
  {
   "cell_type": "code",
   "execution_count": 3,
   "id": "5c21222b",
   "metadata": {},
   "outputs": [
    {
     "name": "stdout",
     "output_type": "stream",
     "text": [
      "2025-05-10 00:48:28,282 INFO: Initializing external client\n",
      "2025-05-10 00:48:28,283 INFO: Base URL: https://c.app.hopsworks.ai:443\n"
     ]
    },
    {
     "name": "stderr",
     "output_type": "stream",
     "text": [
      "\n",
      "\n",
      "UserWarning: The installed hopsworks client version 4.1.8 may not be compatible with the connected Hopsworks backend version 4.2.0. \n",
      "To ensure compatibility please install the latest bug fix release matching the minor version of your backend (4.2) by running 'pip install hopsworks==4.2.*'\n"
     ]
    },
    {
     "name": "stdout",
     "output_type": "stream",
     "text": [
      "2025-05-10 00:48:29,200 INFO: Python Engine initialized.\n",
      "\n",
      "Logged in to project, explore it here https://c.app.hopsworks.ai:443/p/1228959\n"
     ]
    }
   ],
   "source": [
    "project = hopsworks.login(\n",
    "    project=config.HOPSWORKS_PROJECT_NAME,\n",
    "    api_key_value=config.HOPSWORKS_API_KEY\n",
    ")\n",
    "\n",
    "feature_store = project.get_feature_store()\n",
    "feature_group = feature_store.get_feature_group(\n",
    "    name=config.FEATURE_GROUP_NAME,\n",
    "    version=config.FEATURE_GROUP_VERSION\n",
    ")\n"
   ]
  },
  {
   "cell_type": "code",
   "execution_count": 4,
   "id": "d4dec3a0",
   "metadata": {},
   "outputs": [
    {
     "name": "stdout",
     "output_type": "stream",
     "text": [
      "Feature view created successfully, explore it at \n",
      "https://c.app.hopsworks.ai:443/p/1228959/fs/1213525/fv/citibike_hourly_features/version/1\n",
      "✅ Created feature view: citibike_hourly_features v1\n"
     ]
    }
   ],
   "source": [
    "# === 2. Create feature view if it doesn't exist ===\n",
    "try:\n",
    "    feature_store.create_feature_view(\n",
    "        name=config.FEATURE_VIEW_NAME,\n",
    "        version=config.FEATURE_VIEW_VERSION,\n",
    "        query=feature_group.select_all(),\n",
    "    )\n",
    "    print(f\"✅ Created feature view: {config.FEATURE_VIEW_NAME} v{config.FEATURE_VIEW_VERSION}\")\n",
    "except Exception as e:\n",
    "    print(f\"⚠️ Feature view already exists or failed to create: {e}\")\n"
   ]
  },
  {
   "cell_type": "code",
   "execution_count": 21,
   "id": "4841e832",
   "metadata": {},
   "outputs": [
    {
     "name": "stdout",
     "output_type": "stream",
     "text": [
      "2025-05-10 01:01:11,506 ERROR: Peer CitiBikeRideForecast__vidyuthk is not known. Please register client certificates first.. Detail: Python exception: FlyingDuckException. gRPC client debug context: UNKNOWN:Error received from peer ipv4:51.79.26.27:5005 {created_time:\"2025-05-10T05:01:11.4645448+00:00\", grpc_status:2, grpc_message:\"Peer CitiBikeRideForecast__vidyuthk is not known. Please register client certificates first.. Detail: Python exception: FlyingDuckException\"}. Client context: IOError: Server never sent a data message. Detail: Internal\n",
      "Traceback (most recent call last):\n",
      "  File \"c:\\Users\\vidyu\\AppData\\Local\\Programs\\Python\\Python311\\Lib\\site-packages\\hsfs\\core\\arrow_flight_client.py\", line 394, in afs_error_handler_wrapper\n",
      "    return func(instance, *args, **kw)\n",
      "           ^^^^^^^^^^^^^^^^^^^^^^^^^^^\n",
      "  File \"c:\\Users\\vidyu\\AppData\\Local\\Programs\\Python\\Python311\\Lib\\site-packages\\hsfs\\core\\arrow_flight_client.py\", line 459, in read_query\n",
      "    return self._get_dataset(\n",
      "           ^^^^^^^^^^^^^^^^^^\n",
      "  File \"c:\\Users\\vidyu\\AppData\\Local\\Programs\\Python\\Python311\\Lib\\site-packages\\retrying.py\", line 56, in wrapped_f\n",
      "    return Retrying(*dargs, **dkw).call(f, *args, **kw)\n",
      "           ^^^^^^^^^^^^^^^^^^^^^^^^^^^^^^^^^^^^^^^^^^^^\n",
      "  File \"c:\\Users\\vidyu\\AppData\\Local\\Programs\\Python\\Python311\\Lib\\site-packages\\retrying.py\", line 257, in call\n",
      "    return attempt.get(self._wrap_exception)\n",
      "           ^^^^^^^^^^^^^^^^^^^^^^^^^^^^^^^^^\n",
      "  File \"c:\\Users\\vidyu\\AppData\\Local\\Programs\\Python\\Python311\\Lib\\site-packages\\retrying.py\", line 301, in get\n",
      "    six.reraise(self.value[0], self.value[1], self.value[2])\n",
      "  File \"C:\\Users\\vidyu\\AppData\\Roaming\\Python\\Python311\\site-packages\\six.py\", line 724, in reraise\n",
      "    raise value\n",
      "  File \"c:\\Users\\vidyu\\AppData\\Local\\Programs\\Python\\Python311\\Lib\\site-packages\\retrying.py\", line 251, in call\n",
      "    attempt = Attempt(fn(*args, **kwargs), attempt_number, False)\n",
      "                      ^^^^^^^^^^^^^^^^^^^\n",
      "  File \"c:\\Users\\vidyu\\AppData\\Local\\Programs\\Python\\Python311\\Lib\\site-packages\\hsfs\\core\\arrow_flight_client.py\", line 445, in _get_dataset\n",
      "    reader = self._connection.do_get(info.endpoints[0].ticket, options)\n",
      "             ^^^^^^^^^^^^^^^^^^^^^^^^^^^^^^^^^^^^^^^^^^^^^^^^^^^^^^^^^^\n",
      "  File \"pyarrow\\\\_flight.pyx\", line 1708, in pyarrow._flight.FlightClient.do_get\n",
      "  File \"pyarrow\\\\_flight.pyx\", line 58, in pyarrow._flight.check_flight_status\n",
      "pyarrow._flight.FlightServerError: Peer CitiBikeRideForecast__vidyuthk is not known. Please register client certificates first.. Detail: Python exception: FlyingDuckException. gRPC client debug context: UNKNOWN:Error received from peer ipv4:51.79.26.27:5005 {created_time:\"2025-05-10T05:01:11.4645448+00:00\", grpc_status:2, grpc_message:\"Peer CitiBikeRideForecast__vidyuthk is not known. Please register client certificates first.. Detail: Python exception: FlyingDuckException\"}. Client context: IOError: Server never sent a data message. Detail: Internal\n",
      "Finished: Reading data from Hopsworks, using Hopsworks Feature Query Service (1.58s) \n"
     ]
    },
    {
     "name": "stderr",
     "output_type": "stream",
     "text": [
      "VersionWarning: Incremented version to `2`.\n"
     ]
    }
   ],
   "source": [
    "# === 3. Retrieve feature view and training data ===\n",
    "feature_view = feature_store.get_feature_view(\n",
    "    name=config.FEATURE_VIEW_NAME,\n",
    "    version=config.FEATURE_VIEW_VERSION\n",
    ")\n",
    "\n",
    "ts_data, _ = feature_view.training_data(\n",
    "    description=\"Time-series hourly Citi Bike rides\"\n",
    ")\n"
   ]
  },
  {
   "cell_type": "code",
   "execution_count": 22,
   "id": "8952a9b2",
   "metadata": {},
   "outputs": [],
   "source": [
    "ts_data = ts_data.rename(columns={\n",
    "    \"start_hour\": \"pickup_hour\",\n",
    "    \"start_station_id\": \"pickup_location_id\"\n",
    "})\n",
    "ts_data = ts_data.sort_values([\"pickup_location_id\", \"pickup_hour\"]).reset_index(drop=True)\n",
    "\n",
    "# === 4. Transform to tabular features/targets ===\n",
    "features, targets = transform_ts_data_info_features_and_target(\n",
    "    ts_data, window_size=24 * 28, step_size=24\n",
    ")"
   ]
  },
  {
   "cell_type": "code",
   "execution_count": 23,
   "id": "3851ed70",
   "metadata": {},
   "outputs": [],
   "source": [
    "# === 4. Transform to tabular features/targets ===\n",
    "features, targets = transform_ts_data_info_features_and_target(\n",
    "    ts_data, window_size=24 * 28, step_size=24\n",
    ")\n"
   ]
  },
  {
   "cell_type": "code",
   "execution_count": 24,
   "id": "5204646e",
   "metadata": {},
   "outputs": [],
   "source": [
    "features_df, targets = transform_ts_data_info_features_and_target(ts_data)\n",
    "features_df[\"target\"] = targets\n",
    "\n",
    "features_df[\"pickup_hour\"] = pd.to_datetime(features_df[\"pickup_hour\"])\n",
    "\n",
    "cutoff_date = pd.Timestamp(datetime.now(), tz=\"UTC\") - pd.Timedelta(days=28)\n",
    "\n",
    "X_train, y_train, X_test, y_test = split_time_series_data(\n",
    "    features_df,\n",
    "    cutoff_date=cutoff_date,\n",
    "    target_column=\"target\"\n",
    ")\n"
   ]
  },
  {
   "cell_type": "code",
   "execution_count": 25,
   "id": "c6c4133d",
   "metadata": {},
   "outputs": [
    {
     "name": "stdout",
     "output_type": "stream",
     "text": [
      "Shapes:\n",
      "X_train: (1014, 674)\n",
      "y_train: (1014,)\n",
      "X_test: (0, 674)\n",
      "y_test: (0,)\n"
     ]
    }
   ],
   "source": [
    "# === 6. Preview shapes ===\n",
    "print(\"Shapes:\")\n",
    "print(\"X_train:\", X_train.shape)\n",
    "print(\"y_train:\", y_train.shape)\n",
    "print(\"X_test:\", X_test.shape)\n",
    "print(\"y_test:\", y_test.shape)"
   ]
  },
  {
   "cell_type": "code",
   "execution_count": 26,
   "id": "ab22540e",
   "metadata": {},
   "outputs": [],
   "source": [
    "lag_cols = [col for col in X_train.columns if col.startswith(\"rides_t-\")]\n",
    "X_train[lag_cols] = X_train[lag_cols].apply(pd.to_numeric, errors=\"coerce\")\n"
   ]
  },
  {
   "cell_type": "code",
   "execution_count": 28,
   "id": "f2662493",
   "metadata": {},
   "outputs": [],
   "source": [
    "y_train = pd.to_numeric(y_train, errors=\"coerce\")\n"
   ]
  },
  {
   "cell_type": "code",
   "execution_count": 29,
   "id": "f11aaf64",
   "metadata": {},
   "outputs": [
    {
     "name": "stdout",
     "output_type": "stream",
     "text": [
      "[LightGBM] [Info] Auto-choosing col-wise multi-threading, the overhead of testing was 0.008458 seconds.\n",
      "You can set `force_col_wise=true` to remove the overhead.\n",
      "[LightGBM] [Info] Total Bins 22808\n",
      "[LightGBM] [Info] Number of data points in the train set: 1014, number of used features: 672\n",
      "[LightGBM] [Info] Start training from score 0.565089\n",
      "📉 MAE on training set: 0.0355\n"
     ]
    }
   ],
   "source": [
    "from lightgbm import LGBMRegressor\n",
    "from sklearn.metrics import mean_absolute_error\n",
    "import joblib\n",
    "from pathlib import Path\n",
    "import numpy as np\n",
    "\n",
    "# Train the model\n",
    "model = LGBMRegressor(random_state=42)\n",
    "model.fit(X_train.drop(columns=[\"pickup_hour\", \"pickup_location_id\"]), y_train)\n",
    "\n",
    "# Predict (on train set only, since test is empty for now)\n",
    "train_preds = np.round(model.predict(X_train.drop(columns=[\"pickup_hour\", \"pickup_location_id\"]))).astype(int)\n",
    "train_mae = mean_absolute_error(y_train, train_preds)\n",
    "print(f\"📉 MAE on training set: {train_mae:.4f}\")\n"
   ]
  },
  {
   "cell_type": "code",
   "execution_count": 30,
   "id": "f76928bf",
   "metadata": {},
   "outputs": [
    {
     "name": "stdout",
     "output_type": "stream",
     "text": [
      "✅ Model saved to models/lgbm_model_28day.pkl\n"
     ]
    }
   ],
   "source": [
    "# Save the trained model\n",
    "Path(\"models\").mkdir(exist_ok=True)\n",
    "joblib.dump(model, \"models/lgbm_model_28day.pkl\")\n",
    "print(\"✅ Model saved to models/lgbm_model_28day.pkl\")\n"
   ]
  },
  {
   "cell_type": "code",
   "execution_count": 32,
   "id": "7bf55537",
   "metadata": {},
   "outputs": [],
   "source": [
    "from hsml.schema import Schema\n",
    "from hsml.model_schema import ModelSchema\n",
    "from hsml.model import Model\n",
    "from datetime import datetime"
   ]
  },
  {
   "cell_type": "code",
   "execution_count": 35,
   "id": "c7611223",
   "metadata": {},
   "outputs": [
    {
     "name": "stdout",
     "output_type": "stream",
     "text": [
      "2025-05-10 01:06:16,800 INFO: Closing external client and cleaning up certificates.\n",
      "Connection closed.\n",
      "2025-05-10 01:06:16,805 INFO: Initializing external client\n",
      "2025-05-10 01:06:16,805 INFO: Base URL: https://c.app.hopsworks.ai:443\n"
     ]
    },
    {
     "name": "stderr",
     "output_type": "stream",
     "text": [
      "\n",
      "\n",
      "UserWarning: The installed hopsworks client version 4.1.8 may not be compatible with the connected Hopsworks backend version 4.2.0. \n",
      "To ensure compatibility please install the latest bug fix release matching the minor version of your backend (4.2) by running 'pip install hopsworks==4.2.*'\n"
     ]
    },
    {
     "name": "stdout",
     "output_type": "stream",
     "text": [
      "2025-05-10 01:06:17,545 INFO: Python Engine initialized.\n",
      "\n",
      "Logged in to project, explore it here https://c.app.hopsworks.ai:443/p/1228959\n"
     ]
    }
   ],
   "source": [
    "import os\n",
    "# === 1. Login ===\n",
    "project = hopsworks.login(\n",
    "    project=os.getenv(\"HOPSWORKS_PROJECT_NAME\"),\n",
    "    api_key_value=os.getenv(\"HOPSWORKS_API_KEY\")\n",
    ")\n",
    "\n",
    "model_registry = project.get_model_registry()"
   ]
  },
  {
   "cell_type": "code",
   "execution_count": 36,
   "id": "4a682511",
   "metadata": {},
   "outputs": [],
   "source": [
    "# === 3. Define input/output schema ===\n",
    "input_schema = Schema(X_train.drop(columns=[\"pickup_hour\", \"pickup_location_id\"]))\n",
    "output_schema = Schema(pd.DataFrame(y_train))\n",
    "\n",
    "model_schema = ModelSchema(input_schema=input_schema, output_schema=output_schema)"
   ]
  },
  {
   "cell_type": "code",
   "execution_count": 37,
   "id": "60caa91e",
   "metadata": {},
   "outputs": [
    {
     "name": "stderr",
     "output_type": "stream",
     "text": [
      "Uploading: 100.000%|██████████| 312112/312112 elapsed<00:02 remaining<00:00  1.43it/s]\n",
      "Uploading: 100.000%|██████████| 51157/51157 elapsed<00:01 remaining<00:0007,  1.99s/it]\n",
      "Model export complete: 100%|██████████| 6/6 [00:12<00:00,  2.02s/it]                   "
     ]
    },
    {
     "name": "stdout",
     "output_type": "stream",
     "text": [
      "Model created, explore it at https://c.app.hopsworks.ai:443/p/1228959/models/citibike_hourly_predictor/1\n",
      "✅ Registered model 'citibike_hourly_predictor' to Hopsworks\n"
     ]
    },
    {
     "name": "stderr",
     "output_type": "stream",
     "text": [
      "\n"
     ]
    }
   ],
   "source": [
    "# === 4. Register ===\n",
    "model_name = \"citibike_hourly_predictor\"\n",
    "\n",
    "registered_model = model_registry.python.create_model(\n",
    "    name=model_name,\n",
    "    metrics={\"mae\": float(train_mae)},\n",
    "    model_schema=model_schema,\n",
    "    description=\"LGBM trained on 28 days of hourly Citi Bike data\"\n",
    ")\n",
    "\n",
    "registered_model.save(\"models/lgbm_model_28day.pkl\")\n",
    "print(f\"✅ Registered model '{model_name}' to Hopsworks\")"
   ]
  }
 ],
 "metadata": {
  "kernelspec": {
   "display_name": "Python 3",
   "language": "python",
   "name": "python3"
  },
  "language_info": {
   "codemirror_mode": {
    "name": "ipython",
    "version": 3
   },
   "file_extension": ".py",
   "mimetype": "text/x-python",
   "name": "python",
   "nbconvert_exporter": "python",
   "pygments_lexer": "ipython3",
   "version": "3.11.0"
  }
 },
 "nbformat": 4,
 "nbformat_minor": 5
}
