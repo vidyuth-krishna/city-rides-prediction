{
 "cells": [
  {
   "cell_type": "code",
   "execution_count": 1,
   "id": "025b4de2",
   "metadata": {},
   "outputs": [],
   "source": [
    "import requests\n",
    "import zipfile\n",
    "import pandas as pd\n",
    "from pathlib import Path\n",
    "from io import BytesIO\n",
    "import os"
   ]
  },
  {
   "cell_type": "code",
   "execution_count": 10,
   "id": "70562f73",
   "metadata": {},
   "outputs": [],
   "source": [
    "import requests\n",
    "import zipfile\n",
    "import pandas as pd\n",
    "from pathlib import Path\n",
    "from io import BytesIO\n",
    "import os\n",
    "\n",
    "def fetch_raw_data(year: int, month: int, chunksize=100_000):\n",
    "    filename = f\"{year}{month:02}-citibike-tripdata.csv\"\n",
    "    url = f\"https://s3.amazonaws.com/tripdata/{filename}.zip\"\n",
    "    \n",
    "    raw_dir = Path(\"..\") / \"data\" / \"raw\"\n",
    "    raw_dir.mkdir(parents=True, exist_ok=True)\n",
    "    parquet_path = raw_dir / f\"rides_{year}_{month:02}.parquet\"\n",
    "\n",
    "    print(f\"\\n📦 Fetching {url} ...\")\n",
    "    response = requests.get(url)\n",
    "    if response.status_code != 200:\n",
    "        raise Exception(f\"❌ Failed to fetch {url}\")\n",
    "    \n",
    "    with zipfile.ZipFile(BytesIO(response.content)) as z:\n",
    "        csv_name = z.namelist()[0]\n",
    "        z.extract(csv_name, path=raw_dir)\n",
    "\n",
    "    csv_path = raw_dir / csv_name\n",
    "    print(f\"🗂️  Extracted: {csv_path}\")\n",
    "\n",
    "    df_chunks = []\n",
    "    for chunk in pd.read_csv(csv_path, chunksize=chunksize):\n",
    "        chunk.columns = [col.strip() for col in chunk.columns]\n",
    "        df_chunks.append(chunk)\n",
    "\n",
    "    df_all = pd.concat(df_chunks, ignore_index=True)\n",
    "\n",
    "    # 🔧 Fix: convert object columns to string to avoid pyarrow issues\n",
    "    for col in df_all.columns:\n",
    "        if df_all[col].dtype == \"object\":\n",
    "            df_all[col] = df_all[col].astype(\"string\")\n",
    "\n",
    "    df_all.to_parquet(parquet_path, engine=\"pyarrow\", index=False)\n",
    "    print(f\"✅ Saved Parquet: {parquet_path}\")\n",
    "\n",
    "    os.remove(csv_path)\n",
    "    print(f\"🧹 Deleted temp CSV: {csv_path}\")\n"
   ]
  },
  {
   "cell_type": "code",
   "execution_count": 11,
   "id": "4922fc1b",
   "metadata": {},
   "outputs": [
    {
     "name": "stdout",
     "output_type": "stream",
     "text": [
      "\n",
      "📦 Fetching https://s3.amazonaws.com/tripdata/202401-citibike-tripdata.csv.zip ...\n",
      "🗂️  Extracted: ..\\data\\raw\\202401-citibike-tripdata.csv\n"
     ]
    },
    {
     "name": "stderr",
     "output_type": "stream",
     "text": [
      "C:\\Users\\vidyu\\AppData\\Local\\Temp\\ipykernel_32388\\4225356040.py:29: DtypeWarning: Columns (5) have mixed types. Specify dtype option on import or set low_memory=False.\n",
      "  for chunk in pd.read_csv(csv_path, chunksize=chunksize):\n",
      "C:\\Users\\vidyu\\AppData\\Local\\Temp\\ipykernel_32388\\4225356040.py:29: DtypeWarning: Columns (5,7) have mixed types. Specify dtype option on import or set low_memory=False.\n",
      "  for chunk in pd.read_csv(csv_path, chunksize=chunksize):\n",
      "C:\\Users\\vidyu\\AppData\\Local\\Temp\\ipykernel_32388\\4225356040.py:29: DtypeWarning: Columns (7) have mixed types. Specify dtype option on import or set low_memory=False.\n",
      "  for chunk in pd.read_csv(csv_path, chunksize=chunksize):\n",
      "C:\\Users\\vidyu\\AppData\\Local\\Temp\\ipykernel_32388\\4225356040.py:29: DtypeWarning: Columns (5,7) have mixed types. Specify dtype option on import or set low_memory=False.\n",
      "  for chunk in pd.read_csv(csv_path, chunksize=chunksize):\n",
      "C:\\Users\\vidyu\\AppData\\Local\\Temp\\ipykernel_32388\\4225356040.py:29: DtypeWarning: Columns (5,7) have mixed types. Specify dtype option on import or set low_memory=False.\n",
      "  for chunk in pd.read_csv(csv_path, chunksize=chunksize):\n",
      "C:\\Users\\vidyu\\AppData\\Local\\Temp\\ipykernel_32388\\4225356040.py:29: DtypeWarning: Columns (7) have mixed types. Specify dtype option on import or set low_memory=False.\n",
      "  for chunk in pd.read_csv(csv_path, chunksize=chunksize):\n",
      "C:\\Users\\vidyu\\AppData\\Local\\Temp\\ipykernel_32388\\4225356040.py:29: DtypeWarning: Columns (5) have mixed types. Specify dtype option on import or set low_memory=False.\n",
      "  for chunk in pd.read_csv(csv_path, chunksize=chunksize):\n",
      "C:\\Users\\vidyu\\AppData\\Local\\Temp\\ipykernel_32388\\4225356040.py:29: DtypeWarning: Columns (5) have mixed types. Specify dtype option on import or set low_memory=False.\n",
      "  for chunk in pd.read_csv(csv_path, chunksize=chunksize):\n",
      "C:\\Users\\vidyu\\AppData\\Local\\Temp\\ipykernel_32388\\4225356040.py:29: DtypeWarning: Columns (7) have mixed types. Specify dtype option on import or set low_memory=False.\n",
      "  for chunk in pd.read_csv(csv_path, chunksize=chunksize):\n",
      "C:\\Users\\vidyu\\AppData\\Local\\Temp\\ipykernel_32388\\4225356040.py:29: DtypeWarning: Columns (7) have mixed types. Specify dtype option on import or set low_memory=False.\n",
      "  for chunk in pd.read_csv(csv_path, chunksize=chunksize):\n",
      "C:\\Users\\vidyu\\AppData\\Local\\Temp\\ipykernel_32388\\4225356040.py:29: DtypeWarning: Columns (5,7) have mixed types. Specify dtype option on import or set low_memory=False.\n",
      "  for chunk in pd.read_csv(csv_path, chunksize=chunksize):\n",
      "C:\\Users\\vidyu\\AppData\\Local\\Temp\\ipykernel_32388\\4225356040.py:29: DtypeWarning: Columns (7) have mixed types. Specify dtype option on import or set low_memory=False.\n",
      "  for chunk in pd.read_csv(csv_path, chunksize=chunksize):\n"
     ]
    },
    {
     "name": "stdout",
     "output_type": "stream",
     "text": [
      "✅ Saved Parquet: ..\\data\\raw\\rides_2024_01.parquet\n",
      "🧹 Deleted temp CSV: ..\\data\\raw\\202401-citibike-tripdata.csv\n",
      "\n",
      "📦 Fetching https://s3.amazonaws.com/tripdata/202402-citibike-tripdata.csv.zip ...\n",
      "🗂️  Extracted: ..\\data\\raw\\202402-citibike-tripdata.csv\n"
     ]
    },
    {
     "name": "stderr",
     "output_type": "stream",
     "text": [
      "C:\\Users\\vidyu\\AppData\\Local\\Temp\\ipykernel_32388\\4225356040.py:29: DtypeWarning: Columns (5) have mixed types. Specify dtype option on import or set low_memory=False.\n",
      "  for chunk in pd.read_csv(csv_path, chunksize=chunksize):\n",
      "C:\\Users\\vidyu\\AppData\\Local\\Temp\\ipykernel_32388\\4225356040.py:29: DtypeWarning: Columns (7) have mixed types. Specify dtype option on import or set low_memory=False.\n",
      "  for chunk in pd.read_csv(csv_path, chunksize=chunksize):\n",
      "C:\\Users\\vidyu\\AppData\\Local\\Temp\\ipykernel_32388\\4225356040.py:29: DtypeWarning: Columns (5) have mixed types. Specify dtype option on import or set low_memory=False.\n",
      "  for chunk in pd.read_csv(csv_path, chunksize=chunksize):\n",
      "C:\\Users\\vidyu\\AppData\\Local\\Temp\\ipykernel_32388\\4225356040.py:29: DtypeWarning: Columns (5,7) have mixed types. Specify dtype option on import or set low_memory=False.\n",
      "  for chunk in pd.read_csv(csv_path, chunksize=chunksize):\n",
      "C:\\Users\\vidyu\\AppData\\Local\\Temp\\ipykernel_32388\\4225356040.py:29: DtypeWarning: Columns (7) have mixed types. Specify dtype option on import or set low_memory=False.\n",
      "  for chunk in pd.read_csv(csv_path, chunksize=chunksize):\n",
      "C:\\Users\\vidyu\\AppData\\Local\\Temp\\ipykernel_32388\\4225356040.py:29: DtypeWarning: Columns (7) have mixed types. Specify dtype option on import or set low_memory=False.\n",
      "  for chunk in pd.read_csv(csv_path, chunksize=chunksize):\n",
      "C:\\Users\\vidyu\\AppData\\Local\\Temp\\ipykernel_32388\\4225356040.py:29: DtypeWarning: Columns (5,7) have mixed types. Specify dtype option on import or set low_memory=False.\n",
      "  for chunk in pd.read_csv(csv_path, chunksize=chunksize):\n",
      "C:\\Users\\vidyu\\AppData\\Local\\Temp\\ipykernel_32388\\4225356040.py:29: DtypeWarning: Columns (5,7) have mixed types. Specify dtype option on import or set low_memory=False.\n",
      "  for chunk in pd.read_csv(csv_path, chunksize=chunksize):\n",
      "C:\\Users\\vidyu\\AppData\\Local\\Temp\\ipykernel_32388\\4225356040.py:29: DtypeWarning: Columns (5) have mixed types. Specify dtype option on import or set low_memory=False.\n",
      "  for chunk in pd.read_csv(csv_path, chunksize=chunksize):\n",
      "C:\\Users\\vidyu\\AppData\\Local\\Temp\\ipykernel_32388\\4225356040.py:29: DtypeWarning: Columns (5,7) have mixed types. Specify dtype option on import or set low_memory=False.\n",
      "  for chunk in pd.read_csv(csv_path, chunksize=chunksize):\n",
      "C:\\Users\\vidyu\\AppData\\Local\\Temp\\ipykernel_32388\\4225356040.py:29: DtypeWarning: Columns (7) have mixed types. Specify dtype option on import or set low_memory=False.\n",
      "  for chunk in pd.read_csv(csv_path, chunksize=chunksize):\n",
      "C:\\Users\\vidyu\\AppData\\Local\\Temp\\ipykernel_32388\\4225356040.py:29: DtypeWarning: Columns (7) have mixed types. Specify dtype option on import or set low_memory=False.\n",
      "  for chunk in pd.read_csv(csv_path, chunksize=chunksize):\n"
     ]
    },
    {
     "name": "stdout",
     "output_type": "stream",
     "text": [
      "✅ Saved Parquet: ..\\data\\raw\\rides_2024_02.parquet\n",
      "🧹 Deleted temp CSV: ..\\data\\raw\\202402-citibike-tripdata.csv\n",
      "\n",
      "📦 Fetching https://s3.amazonaws.com/tripdata/202403-citibike-tripdata.csv.zip ...\n",
      "🗂️  Extracted: ..\\data\\raw\\202403-citibike-tripdata.csv\n"
     ]
    },
    {
     "name": "stderr",
     "output_type": "stream",
     "text": [
      "C:\\Users\\vidyu\\AppData\\Local\\Temp\\ipykernel_32388\\4225356040.py:29: DtypeWarning: Columns (5) have mixed types. Specify dtype option on import or set low_memory=False.\n",
      "  for chunk in pd.read_csv(csv_path, chunksize=chunksize):\n",
      "C:\\Users\\vidyu\\AppData\\Local\\Temp\\ipykernel_32388\\4225356040.py:29: DtypeWarning: Columns (5) have mixed types. Specify dtype option on import or set low_memory=False.\n",
      "  for chunk in pd.read_csv(csv_path, chunksize=chunksize):\n",
      "C:\\Users\\vidyu\\AppData\\Local\\Temp\\ipykernel_32388\\4225356040.py:29: DtypeWarning: Columns (5,7) have mixed types. Specify dtype option on import or set low_memory=False.\n",
      "  for chunk in pd.read_csv(csv_path, chunksize=chunksize):\n",
      "C:\\Users\\vidyu\\AppData\\Local\\Temp\\ipykernel_32388\\4225356040.py:29: DtypeWarning: Columns (5,7) have mixed types. Specify dtype option on import or set low_memory=False.\n",
      "  for chunk in pd.read_csv(csv_path, chunksize=chunksize):\n",
      "C:\\Users\\vidyu\\AppData\\Local\\Temp\\ipykernel_32388\\4225356040.py:29: DtypeWarning: Columns (5,7) have mixed types. Specify dtype option on import or set low_memory=False.\n",
      "  for chunk in pd.read_csv(csv_path, chunksize=chunksize):\n",
      "C:\\Users\\vidyu\\AppData\\Local\\Temp\\ipykernel_32388\\4225356040.py:29: DtypeWarning: Columns (7) have mixed types. Specify dtype option on import or set low_memory=False.\n",
      "  for chunk in pd.read_csv(csv_path, chunksize=chunksize):\n",
      "C:\\Users\\vidyu\\AppData\\Local\\Temp\\ipykernel_32388\\4225356040.py:29: DtypeWarning: Columns (5) have mixed types. Specify dtype option on import or set low_memory=False.\n",
      "  for chunk in pd.read_csv(csv_path, chunksize=chunksize):\n",
      "C:\\Users\\vidyu\\AppData\\Local\\Temp\\ipykernel_32388\\4225356040.py:29: DtypeWarning: Columns (5) have mixed types. Specify dtype option on import or set low_memory=False.\n",
      "  for chunk in pd.read_csv(csv_path, chunksize=chunksize):\n",
      "C:\\Users\\vidyu\\AppData\\Local\\Temp\\ipykernel_32388\\4225356040.py:29: DtypeWarning: Columns (5) have mixed types. Specify dtype option on import or set low_memory=False.\n",
      "  for chunk in pd.read_csv(csv_path, chunksize=chunksize):\n",
      "C:\\Users\\vidyu\\AppData\\Local\\Temp\\ipykernel_32388\\4225356040.py:29: DtypeWarning: Columns (7) have mixed types. Specify dtype option on import or set low_memory=False.\n",
      "  for chunk in pd.read_csv(csv_path, chunksize=chunksize):\n",
      "C:\\Users\\vidyu\\AppData\\Local\\Temp\\ipykernel_32388\\4225356040.py:29: DtypeWarning: Columns (7) have mixed types. Specify dtype option on import or set low_memory=False.\n",
      "  for chunk in pd.read_csv(csv_path, chunksize=chunksize):\n",
      "C:\\Users\\vidyu\\AppData\\Local\\Temp\\ipykernel_32388\\4225356040.py:29: DtypeWarning: Columns (5,7) have mixed types. Specify dtype option on import or set low_memory=False.\n",
      "  for chunk in pd.read_csv(csv_path, chunksize=chunksize):\n",
      "C:\\Users\\vidyu\\AppData\\Local\\Temp\\ipykernel_32388\\4225356040.py:29: DtypeWarning: Columns (5) have mixed types. Specify dtype option on import or set low_memory=False.\n",
      "  for chunk in pd.read_csv(csv_path, chunksize=chunksize):\n",
      "C:\\Users\\vidyu\\AppData\\Local\\Temp\\ipykernel_32388\\4225356040.py:29: DtypeWarning: Columns (5,7) have mixed types. Specify dtype option on import or set low_memory=False.\n",
      "  for chunk in pd.read_csv(csv_path, chunksize=chunksize):\n",
      "C:\\Users\\vidyu\\AppData\\Local\\Temp\\ipykernel_32388\\4225356040.py:29: DtypeWarning: Columns (5) have mixed types. Specify dtype option on import or set low_memory=False.\n",
      "  for chunk in pd.read_csv(csv_path, chunksize=chunksize):\n",
      "C:\\Users\\vidyu\\AppData\\Local\\Temp\\ipykernel_32388\\4225356040.py:29: DtypeWarning: Columns (5) have mixed types. Specify dtype option on import or set low_memory=False.\n",
      "  for chunk in pd.read_csv(csv_path, chunksize=chunksize):\n",
      "C:\\Users\\vidyu\\AppData\\Local\\Temp\\ipykernel_32388\\4225356040.py:29: DtypeWarning: Columns (5,7) have mixed types. Specify dtype option on import or set low_memory=False.\n",
      "  for chunk in pd.read_csv(csv_path, chunksize=chunksize):\n",
      "C:\\Users\\vidyu\\AppData\\Local\\Temp\\ipykernel_32388\\4225356040.py:29: DtypeWarning: Columns (5,7) have mixed types. Specify dtype option on import or set low_memory=False.\n",
      "  for chunk in pd.read_csv(csv_path, chunksize=chunksize):\n"
     ]
    },
    {
     "name": "stdout",
     "output_type": "stream",
     "text": [
      "✅ Saved Parquet: ..\\data\\raw\\rides_2024_03.parquet\n",
      "🧹 Deleted temp CSV: ..\\data\\raw\\202403-citibike-tripdata.csv\n",
      "\n",
      "📦 Fetching https://s3.amazonaws.com/tripdata/202404-citibike-tripdata.csv.zip ...\n",
      "🗂️  Extracted: ..\\data\\raw\\202404-citibike-tripdata.csv\n"
     ]
    },
    {
     "name": "stderr",
     "output_type": "stream",
     "text": [
      "C:\\Users\\vidyu\\AppData\\Local\\Temp\\ipykernel_32388\\4225356040.py:29: DtypeWarning: Columns (7) have mixed types. Specify dtype option on import or set low_memory=False.\n",
      "  for chunk in pd.read_csv(csv_path, chunksize=chunksize):\n",
      "C:\\Users\\vidyu\\AppData\\Local\\Temp\\ipykernel_32388\\4225356040.py:29: DtypeWarning: Columns (5) have mixed types. Specify dtype option on import or set low_memory=False.\n",
      "  for chunk in pd.read_csv(csv_path, chunksize=chunksize):\n",
      "C:\\Users\\vidyu\\AppData\\Local\\Temp\\ipykernel_32388\\4225356040.py:29: DtypeWarning: Columns (7) have mixed types. Specify dtype option on import or set low_memory=False.\n",
      "  for chunk in pd.read_csv(csv_path, chunksize=chunksize):\n",
      "C:\\Users\\vidyu\\AppData\\Local\\Temp\\ipykernel_32388\\4225356040.py:29: DtypeWarning: Columns (5) have mixed types. Specify dtype option on import or set low_memory=False.\n",
      "  for chunk in pd.read_csv(csv_path, chunksize=chunksize):\n",
      "C:\\Users\\vidyu\\AppData\\Local\\Temp\\ipykernel_32388\\4225356040.py:29: DtypeWarning: Columns (5) have mixed types. Specify dtype option on import or set low_memory=False.\n",
      "  for chunk in pd.read_csv(csv_path, chunksize=chunksize):\n",
      "C:\\Users\\vidyu\\AppData\\Local\\Temp\\ipykernel_32388\\4225356040.py:29: DtypeWarning: Columns (7) have mixed types. Specify dtype option on import or set low_memory=False.\n",
      "  for chunk in pd.read_csv(csv_path, chunksize=chunksize):\n",
      "C:\\Users\\vidyu\\AppData\\Local\\Temp\\ipykernel_32388\\4225356040.py:29: DtypeWarning: Columns (7) have mixed types. Specify dtype option on import or set low_memory=False.\n",
      "  for chunk in pd.read_csv(csv_path, chunksize=chunksize):\n",
      "C:\\Users\\vidyu\\AppData\\Local\\Temp\\ipykernel_32388\\4225356040.py:29: DtypeWarning: Columns (5,7) have mixed types. Specify dtype option on import or set low_memory=False.\n",
      "  for chunk in pd.read_csv(csv_path, chunksize=chunksize):\n",
      "C:\\Users\\vidyu\\AppData\\Local\\Temp\\ipykernel_32388\\4225356040.py:29: DtypeWarning: Columns (5) have mixed types. Specify dtype option on import or set low_memory=False.\n",
      "  for chunk in pd.read_csv(csv_path, chunksize=chunksize):\n",
      "C:\\Users\\vidyu\\AppData\\Local\\Temp\\ipykernel_32388\\4225356040.py:29: DtypeWarning: Columns (5) have mixed types. Specify dtype option on import or set low_memory=False.\n",
      "  for chunk in pd.read_csv(csv_path, chunksize=chunksize):\n",
      "C:\\Users\\vidyu\\AppData\\Local\\Temp\\ipykernel_32388\\4225356040.py:29: DtypeWarning: Columns (7) have mixed types. Specify dtype option on import or set low_memory=False.\n",
      "  for chunk in pd.read_csv(csv_path, chunksize=chunksize):\n",
      "C:\\Users\\vidyu\\AppData\\Local\\Temp\\ipykernel_32388\\4225356040.py:29: DtypeWarning: Columns (5,7) have mixed types. Specify dtype option on import or set low_memory=False.\n",
      "  for chunk in pd.read_csv(csv_path, chunksize=chunksize):\n",
      "C:\\Users\\vidyu\\AppData\\Local\\Temp\\ipykernel_32388\\4225356040.py:29: DtypeWarning: Columns (5) have mixed types. Specify dtype option on import or set low_memory=False.\n",
      "  for chunk in pd.read_csv(csv_path, chunksize=chunksize):\n",
      "C:\\Users\\vidyu\\AppData\\Local\\Temp\\ipykernel_32388\\4225356040.py:29: DtypeWarning: Columns (5) have mixed types. Specify dtype option on import or set low_memory=False.\n",
      "  for chunk in pd.read_csv(csv_path, chunksize=chunksize):\n",
      "C:\\Users\\vidyu\\AppData\\Local\\Temp\\ipykernel_32388\\4225356040.py:29: DtypeWarning: Columns (7) have mixed types. Specify dtype option on import or set low_memory=False.\n",
      "  for chunk in pd.read_csv(csv_path, chunksize=chunksize):\n",
      "C:\\Users\\vidyu\\AppData\\Local\\Temp\\ipykernel_32388\\4225356040.py:29: DtypeWarning: Columns (5,7) have mixed types. Specify dtype option on import or set low_memory=False.\n",
      "  for chunk in pd.read_csv(csv_path, chunksize=chunksize):\n",
      "C:\\Users\\vidyu\\AppData\\Local\\Temp\\ipykernel_32388\\4225356040.py:29: DtypeWarning: Columns (5,7) have mixed types. Specify dtype option on import or set low_memory=False.\n",
      "  for chunk in pd.read_csv(csv_path, chunksize=chunksize):\n",
      "C:\\Users\\vidyu\\AppData\\Local\\Temp\\ipykernel_32388\\4225356040.py:29: DtypeWarning: Columns (5,7) have mixed types. Specify dtype option on import or set low_memory=False.\n",
      "  for chunk in pd.read_csv(csv_path, chunksize=chunksize):\n",
      "C:\\Users\\vidyu\\AppData\\Local\\Temp\\ipykernel_32388\\4225356040.py:29: DtypeWarning: Columns (5,7) have mixed types. Specify dtype option on import or set low_memory=False.\n",
      "  for chunk in pd.read_csv(csv_path, chunksize=chunksize):\n",
      "C:\\Users\\vidyu\\AppData\\Local\\Temp\\ipykernel_32388\\4225356040.py:29: DtypeWarning: Columns (7) have mixed types. Specify dtype option on import or set low_memory=False.\n",
      "  for chunk in pd.read_csv(csv_path, chunksize=chunksize):\n",
      "C:\\Users\\vidyu\\AppData\\Local\\Temp\\ipykernel_32388\\4225356040.py:29: DtypeWarning: Columns (5) have mixed types. Specify dtype option on import or set low_memory=False.\n",
      "  for chunk in pd.read_csv(csv_path, chunksize=chunksize):\n"
     ]
    },
    {
     "name": "stdout",
     "output_type": "stream",
     "text": [
      "✅ Saved Parquet: ..\\data\\raw\\rides_2024_04.parquet\n",
      "🧹 Deleted temp CSV: ..\\data\\raw\\202404-citibike-tripdata.csv\n",
      "\n",
      "📦 Fetching https://s3.amazonaws.com/tripdata/202405-citibike-tripdata.csv.zip ...\n"
     ]
    },
    {
     "ename": "Exception",
     "evalue": "❌ Failed to fetch https://s3.amazonaws.com/tripdata/202405-citibike-tripdata.csv.zip",
     "output_type": "error",
     "traceback": [
      "\u001b[31m---------------------------------------------------------------------------\u001b[39m",
      "\u001b[31mException\u001b[39m                                 Traceback (most recent call last)",
      "\u001b[36mCell\u001b[39m\u001b[36m \u001b[39m\u001b[32mIn[11]\u001b[39m\u001b[32m, line 2\u001b[39m\n\u001b[32m      1\u001b[39m \u001b[38;5;28;01mfor\u001b[39;00m m \u001b[38;5;129;01min\u001b[39;00m \u001b[38;5;28mrange\u001b[39m(\u001b[32m1\u001b[39m, \u001b[32m13\u001b[39m):\n\u001b[32m----> \u001b[39m\u001b[32m2\u001b[39m     \u001b[43mfetch_raw_data\u001b[49m\u001b[43m(\u001b[49m\u001b[32;43m2024\u001b[39;49m\u001b[43m,\u001b[49m\u001b[43m \u001b[49m\u001b[43mm\u001b[49m\u001b[43m)\u001b[49m\n",
      "\u001b[36mCell\u001b[39m\u001b[36m \u001b[39m\u001b[32mIn[10]\u001b[39m\u001b[32m, line 19\u001b[39m, in \u001b[36mfetch_raw_data\u001b[39m\u001b[34m(year, month, chunksize)\u001b[39m\n\u001b[32m     17\u001b[39m response = requests.get(url)\n\u001b[32m     18\u001b[39m \u001b[38;5;28;01mif\u001b[39;00m response.status_code != \u001b[32m200\u001b[39m:\n\u001b[32m---> \u001b[39m\u001b[32m19\u001b[39m     \u001b[38;5;28;01mraise\u001b[39;00m \u001b[38;5;167;01mException\u001b[39;00m(\u001b[33mf\u001b[39m\u001b[33m\"\u001b[39m\u001b[33m❌ Failed to fetch \u001b[39m\u001b[38;5;132;01m{\u001b[39;00murl\u001b[38;5;132;01m}\u001b[39;00m\u001b[33m\"\u001b[39m)\n\u001b[32m     21\u001b[39m \u001b[38;5;28;01mwith\u001b[39;00m zipfile.ZipFile(BytesIO(response.content)) \u001b[38;5;28;01mas\u001b[39;00m z:\n\u001b[32m     22\u001b[39m     csv_name = z.namelist()[\u001b[32m0\u001b[39m]\n",
      "\u001b[31mException\u001b[39m: ❌ Failed to fetch https://s3.amazonaws.com/tripdata/202405-citibike-tripdata.csv.zip"
     ]
    }
   ],
   "source": [
    "for m in range(1, 13):\n",
    "    fetch_raw_data(2024, m)"
   ]
  },
  {
   "cell_type": "code",
   "execution_count": 12,
   "id": "43f7b3f8",
   "metadata": {},
   "outputs": [],
   "source": [
    "import pandas as pd\n",
    "from pathlib import Path\n",
    "\n",
    "def convert_local_csv_to_parquet(csv_path: Path, year: int, month: int, chunksize=100_000):\n",
    "    raw_dir = Path(\"..\") / \"data\" / \"raw\"\n",
    "    raw_dir.mkdir(parents=True, exist_ok=True)\n",
    "    parquet_path = raw_dir / f\"rides_{year}_{month:02}.parquet\"\n",
    "\n",
    "    print(f\"🔄 Converting {csv_path.name} to {parquet_path.name} ...\")\n",
    "\n",
    "    df_chunks = []\n",
    "    for chunk in pd.read_csv(csv_path, chunksize=chunksize):\n",
    "        chunk.columns = [col.strip() for col in chunk.columns]\n",
    "        df_chunks.append(chunk)\n",
    "\n",
    "    df_all = pd.concat(df_chunks, ignore_index=True)\n",
    "\n",
    "    for col in df_all.columns:\n",
    "        if df_all[col].dtype == \"object\":\n",
    "            df_all[col] = df_all[col].astype(\"string\")\n",
    "\n",
    "    df_all.to_parquet(parquet_path, engine=\"pyarrow\", index=False)\n",
    "    print(f\"✅ Saved: {parquet_path}\")\n"
   ]
  },
  {
   "cell_type": "code",
   "execution_count": 14,
   "id": "2142ac86",
   "metadata": {},
   "outputs": [
    {
     "name": "stdout",
     "output_type": "stream",
     "text": [
      "🔄 Converting 202307-citibike-tripdata_1.csv to rides_2023_07.parquet ...\n"
     ]
    },
    {
     "name": "stderr",
     "output_type": "stream",
     "text": [
      "C:\\Users\\vidyu\\AppData\\Local\\Temp\\ipykernel_32388\\4070459175.py:12: DtypeWarning: Columns (7) have mixed types. Specify dtype option on import or set low_memory=False.\n",
      "  for chunk in pd.read_csv(csv_path, chunksize=chunksize):\n",
      "C:\\Users\\vidyu\\AppData\\Local\\Temp\\ipykernel_32388\\4070459175.py:12: DtypeWarning: Columns (5,7) have mixed types. Specify dtype option on import or set low_memory=False.\n",
      "  for chunk in pd.read_csv(csv_path, chunksize=chunksize):\n",
      "C:\\Users\\vidyu\\AppData\\Local\\Temp\\ipykernel_32388\\4070459175.py:12: DtypeWarning: Columns (7) have mixed types. Specify dtype option on import or set low_memory=False.\n",
      "  for chunk in pd.read_csv(csv_path, chunksize=chunksize):\n",
      "C:\\Users\\vidyu\\AppData\\Local\\Temp\\ipykernel_32388\\4070459175.py:12: DtypeWarning: Columns (5) have mixed types. Specify dtype option on import or set low_memory=False.\n",
      "  for chunk in pd.read_csv(csv_path, chunksize=chunksize):\n",
      "C:\\Users\\vidyu\\AppData\\Local\\Temp\\ipykernel_32388\\4070459175.py:12: DtypeWarning: Columns (5) have mixed types. Specify dtype option on import or set low_memory=False.\n",
      "  for chunk in pd.read_csv(csv_path, chunksize=chunksize):\n"
     ]
    },
    {
     "name": "stdout",
     "output_type": "stream",
     "text": [
      "✅ Saved: ..\\data\\raw\\rides_2023_07.parquet\n",
      "🔄 Converting 202308-citibike-tripdata_1.csv to rides_2023_08.parquet ...\n"
     ]
    },
    {
     "name": "stderr",
     "output_type": "stream",
     "text": [
      "C:\\Users\\vidyu\\AppData\\Local\\Temp\\ipykernel_32388\\4070459175.py:12: DtypeWarning: Columns (5) have mixed types. Specify dtype option on import or set low_memory=False.\n",
      "  for chunk in pd.read_csv(csv_path, chunksize=chunksize):\n",
      "C:\\Users\\vidyu\\AppData\\Local\\Temp\\ipykernel_32388\\4070459175.py:12: DtypeWarning: Columns (5) have mixed types. Specify dtype option on import or set low_memory=False.\n",
      "  for chunk in pd.read_csv(csv_path, chunksize=chunksize):\n",
      "C:\\Users\\vidyu\\AppData\\Local\\Temp\\ipykernel_32388\\4070459175.py:12: DtypeWarning: Columns (5,7) have mixed types. Specify dtype option on import or set low_memory=False.\n",
      "  for chunk in pd.read_csv(csv_path, chunksize=chunksize):\n",
      "C:\\Users\\vidyu\\AppData\\Local\\Temp\\ipykernel_32388\\4070459175.py:12: DtypeWarning: Columns (5,7) have mixed types. Specify dtype option on import or set low_memory=False.\n",
      "  for chunk in pd.read_csv(csv_path, chunksize=chunksize):\n",
      "C:\\Users\\vidyu\\AppData\\Local\\Temp\\ipykernel_32388\\4070459175.py:12: DtypeWarning: Columns (5,7) have mixed types. Specify dtype option on import or set low_memory=False.\n",
      "  for chunk in pd.read_csv(csv_path, chunksize=chunksize):\n"
     ]
    },
    {
     "name": "stdout",
     "output_type": "stream",
     "text": [
      "✅ Saved: ..\\data\\raw\\rides_2023_08.parquet\n",
      "🔄 Converting 202309-citibike-tripdata_1.csv to rides_2023_09.parquet ...\n"
     ]
    },
    {
     "name": "stderr",
     "output_type": "stream",
     "text": [
      "C:\\Users\\vidyu\\AppData\\Local\\Temp\\ipykernel_32388\\4070459175.py:12: DtypeWarning: Columns (5,7) have mixed types. Specify dtype option on import or set low_memory=False.\n",
      "  for chunk in pd.read_csv(csv_path, chunksize=chunksize):\n",
      "C:\\Users\\vidyu\\AppData\\Local\\Temp\\ipykernel_32388\\4070459175.py:12: DtypeWarning: Columns (5,7) have mixed types. Specify dtype option on import or set low_memory=False.\n",
      "  for chunk in pd.read_csv(csv_path, chunksize=chunksize):\n"
     ]
    },
    {
     "name": "stdout",
     "output_type": "stream",
     "text": [
      "✅ Saved: ..\\data\\raw\\rides_2023_09.parquet\n",
      "🔄 Converting 202310-citibike-tripdata_1.csv to rides_2023_10.parquet ...\n"
     ]
    },
    {
     "name": "stderr",
     "output_type": "stream",
     "text": [
      "C:\\Users\\vidyu\\AppData\\Local\\Temp\\ipykernel_32388\\4070459175.py:12: DtypeWarning: Columns (7) have mixed types. Specify dtype option on import or set low_memory=False.\n",
      "  for chunk in pd.read_csv(csv_path, chunksize=chunksize):\n",
      "C:\\Users\\vidyu\\AppData\\Local\\Temp\\ipykernel_32388\\4070459175.py:12: DtypeWarning: Columns (7) have mixed types. Specify dtype option on import or set low_memory=False.\n",
      "  for chunk in pd.read_csv(csv_path, chunksize=chunksize):\n",
      "C:\\Users\\vidyu\\AppData\\Local\\Temp\\ipykernel_32388\\4070459175.py:12: DtypeWarning: Columns (5) have mixed types. Specify dtype option on import or set low_memory=False.\n",
      "  for chunk in pd.read_csv(csv_path, chunksize=chunksize):\n",
      "C:\\Users\\vidyu\\AppData\\Local\\Temp\\ipykernel_32388\\4070459175.py:12: DtypeWarning: Columns (7) have mixed types. Specify dtype option on import or set low_memory=False.\n",
      "  for chunk in pd.read_csv(csv_path, chunksize=chunksize):\n",
      "C:\\Users\\vidyu\\AppData\\Local\\Temp\\ipykernel_32388\\4070459175.py:12: DtypeWarning: Columns (7) have mixed types. Specify dtype option on import or set low_memory=False.\n",
      "  for chunk in pd.read_csv(csv_path, chunksize=chunksize):\n"
     ]
    },
    {
     "name": "stdout",
     "output_type": "stream",
     "text": [
      "✅ Saved: ..\\data\\raw\\rides_2023_10.parquet\n",
      "🔄 Converting 202311-citibike-tripdata_1.csv to rides_2023_11.parquet ...\n"
     ]
    },
    {
     "name": "stderr",
     "output_type": "stream",
     "text": [
      "C:\\Users\\vidyu\\AppData\\Local\\Temp\\ipykernel_32388\\4070459175.py:12: DtypeWarning: Columns (7) have mixed types. Specify dtype option on import or set low_memory=False.\n",
      "  for chunk in pd.read_csv(csv_path, chunksize=chunksize):\n",
      "C:\\Users\\vidyu\\AppData\\Local\\Temp\\ipykernel_32388\\4070459175.py:12: DtypeWarning: Columns (7) have mixed types. Specify dtype option on import or set low_memory=False.\n",
      "  for chunk in pd.read_csv(csv_path, chunksize=chunksize):\n",
      "C:\\Users\\vidyu\\AppData\\Local\\Temp\\ipykernel_32388\\4070459175.py:12: DtypeWarning: Columns (7) have mixed types. Specify dtype option on import or set low_memory=False.\n",
      "  for chunk in pd.read_csv(csv_path, chunksize=chunksize):\n"
     ]
    },
    {
     "name": "stdout",
     "output_type": "stream",
     "text": [
      "✅ Saved: ..\\data\\raw\\rides_2023_11.parquet\n",
      "🔄 Converting 202312-citibike-tripdata_1.csv to rides_2023_12.parquet ...\n"
     ]
    },
    {
     "name": "stderr",
     "output_type": "stream",
     "text": [
      "C:\\Users\\vidyu\\AppData\\Local\\Temp\\ipykernel_32388\\4070459175.py:12: DtypeWarning: Columns (7) have mixed types. Specify dtype option on import or set low_memory=False.\n",
      "  for chunk in pd.read_csv(csv_path, chunksize=chunksize):\n",
      "C:\\Users\\vidyu\\AppData\\Local\\Temp\\ipykernel_32388\\4070459175.py:12: DtypeWarning: Columns (5) have mixed types. Specify dtype option on import or set low_memory=False.\n",
      "  for chunk in pd.read_csv(csv_path, chunksize=chunksize):\n",
      "C:\\Users\\vidyu\\AppData\\Local\\Temp\\ipykernel_32388\\4070459175.py:12: DtypeWarning: Columns (7) have mixed types. Specify dtype option on import or set low_memory=False.\n",
      "  for chunk in pd.read_csv(csv_path, chunksize=chunksize):\n",
      "C:\\Users\\vidyu\\AppData\\Local\\Temp\\ipykernel_32388\\4070459175.py:12: DtypeWarning: Columns (7) have mixed types. Specify dtype option on import or set low_memory=False.\n",
      "  for chunk in pd.read_csv(csv_path, chunksize=chunksize):\n",
      "C:\\Users\\vidyu\\AppData\\Local\\Temp\\ipykernel_32388\\4070459175.py:12: DtypeWarning: Columns (7) have mixed types. Specify dtype option on import or set low_memory=False.\n",
      "  for chunk in pd.read_csv(csv_path, chunksize=chunksize):\n"
     ]
    },
    {
     "name": "stdout",
     "output_type": "stream",
     "text": [
      "✅ Saved: ..\\data\\raw\\rides_2023_12.parquet\n"
     ]
    }
   ],
   "source": [
    "from pathlib import Path\n",
    "\n",
    "# 👇 From notebooks/ → up 2 levels → into reqd/\n",
    "base_path = Path(\"..\") / \"..\" / \"reqd\"\n",
    "\n",
    "for month in range(7, 13):  # May to Dec 2023\n",
    "    csv_file = base_path / f\"2023{month:02}-citibike-tripdata_1.csv\"\n",
    "    convert_local_csv_to_parquet(csv_file, 2023, month)\n"
   ]
  },
  {
   "cell_type": "code",
   "execution_count": 15,
   "id": "fa350b6d",
   "metadata": {},
   "outputs": [
    {
     "data": {
      "text/html": [
       "<div>\n",
       "<style scoped>\n",
       "    .dataframe tbody tr th:only-of-type {\n",
       "        vertical-align: middle;\n",
       "    }\n",
       "\n",
       "    .dataframe tbody tr th {\n",
       "        vertical-align: top;\n",
       "    }\n",
       "\n",
       "    .dataframe thead th {\n",
       "        text-align: right;\n",
       "    }\n",
       "</style>\n",
       "<table border=\"1\" class=\"dataframe\">\n",
       "  <thead>\n",
       "    <tr style=\"text-align: right;\">\n",
       "      <th></th>\n",
       "      <th>ride_id</th>\n",
       "      <th>rideable_type</th>\n",
       "      <th>started_at</th>\n",
       "      <th>ended_at</th>\n",
       "      <th>start_station_name</th>\n",
       "      <th>start_station_id</th>\n",
       "      <th>end_station_name</th>\n",
       "      <th>end_station_id</th>\n",
       "      <th>start_lat</th>\n",
       "      <th>start_lng</th>\n",
       "      <th>end_lat</th>\n",
       "      <th>end_lng</th>\n",
       "      <th>member_casual</th>\n",
       "    </tr>\n",
       "  </thead>\n",
       "  <tbody>\n",
       "    <tr>\n",
       "      <th>0</th>\n",
       "      <td>5078F3D302000BD2</td>\n",
       "      <td>electric_bike</td>\n",
       "      <td>2024-01-22 18:43:19.012</td>\n",
       "      <td>2024-01-22 18:48:10.708</td>\n",
       "      <td>Frederick Douglass Blvd &amp; W 145 St</td>\n",
       "      <td>7954.12</td>\n",
       "      <td>St Nicholas Ave &amp; W 126 St</td>\n",
       "      <td>7756.10</td>\n",
       "      <td>40.823072</td>\n",
       "      <td>-73.941738</td>\n",
       "      <td>40.811432</td>\n",
       "      <td>-73.951878</td>\n",
       "      <td>member</td>\n",
       "    </tr>\n",
       "    <tr>\n",
       "      <th>1</th>\n",
       "      <td>814337105D37302A</td>\n",
       "      <td>electric_bike</td>\n",
       "      <td>2024-01-11 19:19:18.721</td>\n",
       "      <td>2024-01-11 19:47:36.007</td>\n",
       "      <td>W 54 St &amp; 6 Ave</td>\n",
       "      <td>6771.13</td>\n",
       "      <td>E 74 St &amp; 1 Ave</td>\n",
       "      <td>6953.08</td>\n",
       "      <td>40.761822</td>\n",
       "      <td>-73.977036</td>\n",
       "      <td>40.768974</td>\n",
       "      <td>-73.954823</td>\n",
       "      <td>member</td>\n",
       "    </tr>\n",
       "    <tr>\n",
       "      <th>2</th>\n",
       "      <td>A33A920E2B10710C</td>\n",
       "      <td>electric_bike</td>\n",
       "      <td>2024-01-30 19:17:41.693</td>\n",
       "      <td>2024-01-30 19:32:49.857</td>\n",
       "      <td>E 11 St &amp; Ave B</td>\n",
       "      <td>5659.11</td>\n",
       "      <td>W 10 St &amp; Washington St</td>\n",
       "      <td>5847.06</td>\n",
       "      <td>40.727592</td>\n",
       "      <td>-73.979751</td>\n",
       "      <td>40.733424</td>\n",
       "      <td>-74.008515</td>\n",
       "      <td>casual</td>\n",
       "    </tr>\n",
       "    <tr>\n",
       "      <th>3</th>\n",
       "      <td>A3A5FC0DD7D34D74</td>\n",
       "      <td>electric_bike</td>\n",
       "      <td>2024-01-27 11:27:01.759</td>\n",
       "      <td>2024-01-27 11:38:01.213</td>\n",
       "      <td>W 54 St &amp; 6 Ave</td>\n",
       "      <td>6771.13</td>\n",
       "      <td>E 74 St &amp; 1 Ave</td>\n",
       "      <td>6953.08</td>\n",
       "      <td>40.761779</td>\n",
       "      <td>-73.977144</td>\n",
       "      <td>40.768974</td>\n",
       "      <td>-73.954823</td>\n",
       "      <td>member</td>\n",
       "    </tr>\n",
       "    <tr>\n",
       "      <th>4</th>\n",
       "      <td>6F96728ECEFBDAA4</td>\n",
       "      <td>electric_bike</td>\n",
       "      <td>2024-01-16 15:15:41.000</td>\n",
       "      <td>2024-01-16 15:29:26.156</td>\n",
       "      <td>Madison Ave &amp; E 99 St</td>\n",
       "      <td>7443.01</td>\n",
       "      <td>E 74 St &amp; 1 Ave</td>\n",
       "      <td>6953.08</td>\n",
       "      <td>40.789808</td>\n",
       "      <td>-73.952214</td>\n",
       "      <td>40.768974</td>\n",
       "      <td>-73.954823</td>\n",
       "      <td>member</td>\n",
       "    </tr>\n",
       "  </tbody>\n",
       "</table>\n",
       "</div>"
      ],
      "text/plain": [
       "            ride_id  rideable_type               started_at  \\\n",
       "0  5078F3D302000BD2  electric_bike  2024-01-22 18:43:19.012   \n",
       "1  814337105D37302A  electric_bike  2024-01-11 19:19:18.721   \n",
       "2  A33A920E2B10710C  electric_bike  2024-01-30 19:17:41.693   \n",
       "3  A3A5FC0DD7D34D74  electric_bike  2024-01-27 11:27:01.759   \n",
       "4  6F96728ECEFBDAA4  electric_bike  2024-01-16 15:15:41.000   \n",
       "\n",
       "                  ended_at                  start_station_name  \\\n",
       "0  2024-01-22 18:48:10.708  Frederick Douglass Blvd & W 145 St   \n",
       "1  2024-01-11 19:47:36.007                     W 54 St & 6 Ave   \n",
       "2  2024-01-30 19:32:49.857                     E 11 St & Ave B   \n",
       "3  2024-01-27 11:38:01.213                     W 54 St & 6 Ave   \n",
       "4  2024-01-16 15:29:26.156               Madison Ave & E 99 St   \n",
       "\n",
       "  start_station_id            end_station_name end_station_id  start_lat  \\\n",
       "0          7954.12  St Nicholas Ave & W 126 St        7756.10  40.823072   \n",
       "1          6771.13             E 74 St & 1 Ave        6953.08  40.761822   \n",
       "2          5659.11     W 10 St & Washington St        5847.06  40.727592   \n",
       "3          6771.13             E 74 St & 1 Ave        6953.08  40.761779   \n",
       "4          7443.01             E 74 St & 1 Ave        6953.08  40.789808   \n",
       "\n",
       "   start_lng    end_lat    end_lng member_casual  \n",
       "0 -73.941738  40.811432 -73.951878        member  \n",
       "1 -73.977036  40.768974 -73.954823        member  \n",
       "2 -73.979751  40.733424 -74.008515        casual  \n",
       "3 -73.977144  40.768974 -73.954823        member  \n",
       "4 -73.952214  40.768974 -73.954823        member  "
      ]
     },
     "execution_count": 15,
     "metadata": {},
     "output_type": "execute_result"
    }
   ],
   "source": [
    "import pandas as pd\n",
    "from pathlib import Path\n",
    "\n",
    "df = pd.read_parquet(Path(\"..\") / \"data\" / \"raw\" / \"rides_2024_01.parquet\")\n",
    "df.head()\n"
   ]
  },
  {
   "cell_type": "code",
   "execution_count": 16,
   "id": "0c020e49",
   "metadata": {},
   "outputs": [
    {
     "data": {
      "text/plain": [
       "Index(['ride_id', 'rideable_type', 'started_at', 'ended_at',\n",
       "       'start_station_name', 'start_station_id', 'end_station_name',\n",
       "       'end_station_id', 'start_lat', 'start_lng', 'end_lat', 'end_lng',\n",
       "       'member_casual'],\n",
       "      dtype='object')"
      ]
     },
     "execution_count": 16,
     "metadata": {},
     "output_type": "execute_result"
    }
   ],
   "source": [
    "df.columns"
   ]
  },
  {
   "cell_type": "code",
   "execution_count": null,
   "id": "496d1365",
   "metadata": {},
   "outputs": [],
   "source": []
  }
 ],
 "metadata": {
  "kernelspec": {
   "display_name": "Python 3",
   "language": "python",
   "name": "python3"
  },
  "language_info": {
   "codemirror_mode": {
    "name": "ipython",
    "version": 3
   },
   "file_extension": ".py",
   "mimetype": "text/x-python",
   "name": "python",
   "nbconvert_exporter": "python",
   "pygments_lexer": "ipython3",
   "version": "3.11.0"
  }
 },
 "nbformat": 4,
 "nbformat_minor": 5
}
