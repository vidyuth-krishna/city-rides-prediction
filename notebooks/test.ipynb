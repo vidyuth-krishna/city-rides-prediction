{
 "cells": [
  {
   "cell_type": "code",
   "execution_count": 2,
   "id": "245608ff",
   "metadata": {},
   "outputs": [],
   "source": [
    "import sys\n",
    "from pathlib import Path\n",
    "\n",
    "# Add project root to sys.path so `src/` can be imported\n",
    "sys.path.append(str(Path(\"..\").resolve()))\n"
   ]
  },
  {
   "cell_type": "code",
   "execution_count": 3,
   "id": "78c33b89",
   "metadata": {},
   "outputs": [
    {
     "name": "stdout",
     "output_type": "stream",
     "text": [
      "2025-05-10 02:52:55,532 INFO: Initializing external client\n",
      "2025-05-10 02:52:55,533 INFO: Base URL: https://c.app.hopsworks.ai:443\n"
     ]
    },
    {
     "name": "stderr",
     "output_type": "stream",
     "text": [
      "\n",
      "\n",
      "UserWarning: The installed hopsworks client version 4.1.8 may not be compatible with the connected Hopsworks backend version 4.2.0. \n",
      "To ensure compatibility please install the latest bug fix release matching the minor version of your backend (4.2) by running 'pip install hopsworks==4.2.*'\n"
     ]
    },
    {
     "name": "stdout",
     "output_type": "stream",
     "text": [
      "2025-05-10 02:52:56,445 INFO: Python Engine initialized.\n",
      "\n",
      "Logged in to project, explore it here https://c.app.hopsworks.ai:443/p/1228959\n",
      "Finished: Reading data from Hopsworks, using Hopsworks Feature Query Service (1.13s) \n",
      "✅ Loaded shape: (26343, 8)\n",
      "                  start_hour  start_station_id  rides  hour  day_of_week  \\\n",
      "0  2024-03-19 15:00:00+00:00              6822     23    15            1   \n",
      "1  2023-07-15 14:00:00+00:00              6822      3    14            5   \n",
      "2  2024-02-28 05:00:00+00:00              6822      4     5            2   \n",
      "3  2024-04-08 21:00:00+00:00              5905     29    21            0   \n",
      "4  2023-08-12 02:00:00+00:00              6140      0     2            5   \n",
      "\n",
      "   is_weekend  month        date  \n",
      "0       False      3  2024-03-19  \n",
      "1        True      7  2023-07-15  \n",
      "2       False      2  2024-02-28  \n",
      "3       False      4  2024-04-08  \n",
      "4        True      8  2023-08-12  \n",
      "2023-05-01 03:00:00+00:00 2024-04-30 23:00:00+00:00\n"
     ]
    },
    {
     "name": "stderr",
     "output_type": "stream",
     "text": [
      "VersionWarning: Incremented version to `11`.\n"
     ]
    }
   ],
   "source": [
    "import hopsworks\n",
    "import pandas as pd\n",
    "from datetime import datetime\n",
    "\n",
    "from src.config import HOPSWORKS_API_KEY, HOPSWORKS_PROJECT_NAME, FEATURE_VIEW_NAME, FEATURE_VIEW_VERSION\n",
    "\n",
    "project = hopsworks.login(api_key_value=HOPSWORKS_API_KEY, project=HOPSWORKS_PROJECT_NAME)\n",
    "fs = project.get_feature_store()\n",
    "fv = fs.get_feature_view(FEATURE_VIEW_NAME, FEATURE_VIEW_VERSION)\n",
    "\n",
    "# Try without time filter first\n",
    "df, _ = fv.training_data()\n",
    "\n",
    "print(f\"✅ Loaded shape: {df.shape}\")\n",
    "print(df.head(5))\n",
    "print(df['start_hour'].min(), df['start_hour'].max())\n"
   ]
  }
 ],
 "metadata": {
  "kernelspec": {
   "display_name": "Python 3",
   "language": "python",
   "name": "python3"
  },
  "language_info": {
   "codemirror_mode": {
    "name": "ipython",
    "version": 3
   },
   "file_extension": ".py",
   "mimetype": "text/x-python",
   "name": "python",
   "nbconvert_exporter": "python",
   "pygments_lexer": "ipython3",
   "version": "3.11.0"
  }
 },
 "nbformat": 4,
 "nbformat_minor": 5
}
