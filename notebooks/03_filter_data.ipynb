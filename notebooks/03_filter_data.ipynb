{
 "cells": [
  {
   "cell_type": "code",
   "execution_count": 1,
   "id": "98b66a3d",
   "metadata": {},
   "outputs": [],
   "source": [
    "import pandas as pd\n",
    "from pathlib import Path"
   ]
  },
  {
   "cell_type": "code",
   "execution_count": 3,
   "id": "dd25dc2f",
   "metadata": {},
   "outputs": [
    {
     "name": "stdout",
     "output_type": "stream",
     "text": [
      "📂 Reading rides_2023_05.parquet ...\n",
      "📂 Reading rides_2023_06.parquet ...\n",
      "📂 Reading rides_2023_07.parquet ...\n",
      "📂 Reading rides_2023_08.parquet ...\n",
      "📂 Reading rides_2023_09.parquet ...\n",
      "📂 Reading rides_2023_10.parquet ...\n",
      "📂 Reading rides_2023_11.parquet ...\n",
      "📂 Reading rides_2023_12.parquet ...\n",
      "📂 Reading rides_2024_01.parquet ...\n",
      "📂 Reading rides_2024_02.parquet ...\n",
      "📂 Reading rides_2024_03.parquet ...\n",
      "📂 Reading rides_2024_04.parquet ...\n",
      "\n",
      "✅ Filtered data shape: (230278, 13)\n",
      "📊 Sample data:\n",
      "      start_station_id       start_station_name\n",
      "0                 5905  University Pl & E 14 St\n",
      "7                 6822          1 Ave & E 68 St\n",
      "1656              6140          W 21 St & 6 Ave\n",
      "4098              5905       Broadway & E 14 St\n",
      "💾 Saved filtered data to: ..\\data\\processed\\top_3_stations.parquet\n"
     ]
    }
   ],
   "source": [
    "import pandas as pd\n",
    "from pathlib import Path\n",
    "\n",
    "# Use integer versions of your 3 top stations\n",
    "TOP_3_IDS = [6140, 6822, 5905]\n",
    "\n",
    "# Path to raw parquet files\n",
    "raw_dir = Path(\"..\") / \"data\" / \"raw\"\n",
    "all_dfs = []\n",
    "\n",
    "# Loop through all months\n",
    "for year in [2023, 2024]:\n",
    "    months = range(5, 13) if year == 2023 else range(1, 5)\n",
    "    for month in months:\n",
    "        path = raw_dir / f\"rides_{year}_{month:02}.parquet\"\n",
    "        print(f\"📂 Reading {path.name} ...\")\n",
    "        df = pd.read_parquet(path)\n",
    "\n",
    "        # Clean and convert station IDs\n",
    "        df = df[df[\"start_station_id\"].notna()]\n",
    "\n",
    "        # Drop any non-numeric station IDs like 'SYS016'\n",
    "        df = df[df[\"start_station_id\"].astype(str).str.replace(\".\", \"\", regex=False).str.isnumeric()]\n",
    "\n",
    "        # Convert to int\n",
    "        df[\"start_station_id\"] = df[\"start_station_id\"].astype(float).astype(int)\n",
    "\n",
    "        # Filter to only the top 3 stations\n",
    "        df_filtered = df[df[\"start_station_id\"].isin(TOP_3_IDS)]\n",
    "        all_dfs.append(df_filtered)\n",
    "\n",
    "# Combine all months\n",
    "df_top3 = pd.concat(all_dfs, ignore_index=True)\n",
    "print(f\"\\n✅ Filtered data shape: {df_top3.shape}\")\n",
    "print(\"📊 Sample data:\")\n",
    "print(df_top3[[\"start_station_id\", \"start_station_name\"]].drop_duplicates())\n",
    "\n",
    "# Save filtered data\n",
    "processed_dir = Path(\"..\") / \"data\" / \"processed\"\n",
    "processed_dir.mkdir(parents=True, exist_ok=True)\n",
    "\n",
    "output_path = processed_dir / \"top_3_stations.parquet\"\n",
    "df_top3.to_parquet(output_path, engine=\"pyarrow\", index=False)\n",
    "\n",
    "print(f\"💾 Saved filtered data to: {output_path}\")\n"
   ]
  },
  {
   "cell_type": "code",
   "execution_count": 4,
   "id": "5d232b84",
   "metadata": {},
   "outputs": [
    {
     "name": "stdout",
     "output_type": "stream",
     "text": [
      "✅ Filtered 44405 rows from rides_2024_04.parquet\n"
     ]
    }
   ],
   "source": [
    "df_filtered = df[df[\"start_station_id\"].isin(TOP_3_IDS)]\n",
    "if df_filtered.empty:\n",
    "    print(f\"⚠️  No matching rows found in {path.name} for top 3 stations.\")\n",
    "else:\n",
    "    print(f\"✅ Filtered {len(df_filtered)} rows from {path.name}\")\n"
   ]
  }
 ],
 "metadata": {
  "kernelspec": {
   "display_name": "Python 3",
   "language": "python",
   "name": "python3"
  },
  "language_info": {
   "codemirror_mode": {
    "name": "ipython",
    "version": 3
   },
   "file_extension": ".py",
   "mimetype": "text/x-python",
   "name": "python",
   "nbconvert_exporter": "python",
   "pygments_lexer": "ipython3",
   "version": "3.11.0"
  }
 },
 "nbformat": 4,
 "nbformat_minor": 5
}
