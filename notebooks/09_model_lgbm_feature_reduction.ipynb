{
 "cells": [
  {
   "cell_type": "code",
   "execution_count": 28,
   "id": "8088d6c4",
   "metadata": {},
   "outputs": [],
   "source": [
    "import sys\n",
    "from pathlib import Path\n",
    "\n",
    "# Add project root to sys.path so `src/` can be imported\n",
    "sys.path.append(str(Path(\"..\").resolve()))\n"
   ]
  },
  {
   "cell_type": "code",
   "execution_count": 29,
   "id": "ef2fd7e5",
   "metadata": {},
   "outputs": [],
   "source": [
    "import pandas as pd\n",
    "import lightgbm as lgb\n",
    "from sklearn.metrics import mean_absolute_error\n",
    "from datetime import datetime\n",
    "from dotenv import load_dotenv\n",
    "from src.data_utils import split_time_series_data\n",
    "from src.experiment_utils import set_mlflow_tracking, log_model_to_mlflow\n"
   ]
  },
  {
   "cell_type": "code",
   "execution_count": 30,
   "id": "358bda55",
   "metadata": {},
   "outputs": [],
   "source": [
    "# === 1. Load tabular data ===\n",
    "df = pd.read_parquet(\"../data/transformed/tabular_data.parquet\")\n",
    "\n",
    "# Rename cols for compatibility with shared pipeline\n",
    "df = df.rename(columns={\n",
    "    \"start_hour\": \"pickup_hour\",\n",
    "    \"start_station_id\": \"pickup_location_id\"\n",
    "})\n"
   ]
  },
  {
   "cell_type": "code",
   "execution_count": 31,
   "id": "56f17ea5",
   "metadata": {},
   "outputs": [],
   "source": [
    "# === 2. Train/Test split ===\n",
    "X_train, y_train, X_test, y_test = split_time_series_data(\n",
    "    df=df,\n",
    "    cutoff_date=datetime(2024, 4, 1),\n",
    "    target_column=\"target\"\n",
    ")\n"
   ]
  },
  {
   "cell_type": "code",
   "execution_count": 32,
   "id": "8931c892",
   "metadata": {},
   "outputs": [],
   "source": [
    "# === 3. Drop non-feature columns ===\n",
    "drop_cols = [\"pickup_hour\", \"pickup_location_id\"]\n",
    "X_train_model = X_train.drop(columns=drop_cols)\n",
    "X_test_model = X_test.drop(columns=drop_cols)\n"
   ]
  },
  {
   "cell_type": "code",
   "execution_count": 33,
   "id": "64e283ba",
   "metadata": {},
   "outputs": [
    {
     "name": "stdout",
     "output_type": "stream",
     "text": [
      "[LightGBM] [Info] Auto-choosing col-wise multi-threading, the overhead of testing was 0.006966 seconds.\n",
      "You can set `force_col_wise=true` to remove the overhead.\n",
      "[LightGBM] [Info] Total Bins 19926\n",
      "[LightGBM] [Info] Number of data points in the train set: 924, number of used features: 672\n",
      "[LightGBM] [Info] Start training from score 0.490260\n",
      "[LightGBM] [Warning] No further splits with positive gain, best gain: -inf\n"
     ]
    },
    {
     "data": {
      "text/html": [
       "<style>#sk-container-id-3 {\n",
       "  /* Definition of color scheme common for light and dark mode */\n",
       "  --sklearn-color-text: black;\n",
       "  --sklearn-color-line: gray;\n",
       "  /* Definition of color scheme for unfitted estimators */\n",
       "  --sklearn-color-unfitted-level-0: #fff5e6;\n",
       "  --sklearn-color-unfitted-level-1: #f6e4d2;\n",
       "  --sklearn-color-unfitted-level-2: #ffe0b3;\n",
       "  --sklearn-color-unfitted-level-3: chocolate;\n",
       "  /* Definition of color scheme for fitted estimators */\n",
       "  --sklearn-color-fitted-level-0: #f0f8ff;\n",
       "  --sklearn-color-fitted-level-1: #d4ebff;\n",
       "  --sklearn-color-fitted-level-2: #b3dbfd;\n",
       "  --sklearn-color-fitted-level-3: cornflowerblue;\n",
       "\n",
       "  /* Specific color for light theme */\n",
       "  --sklearn-color-text-on-default-background: var(--sg-text-color, var(--theme-code-foreground, var(--jp-content-font-color1, black)));\n",
       "  --sklearn-color-background: var(--sg-background-color, var(--theme-background, var(--jp-layout-color0, white)));\n",
       "  --sklearn-color-border-box: var(--sg-text-color, var(--theme-code-foreground, var(--jp-content-font-color1, black)));\n",
       "  --sklearn-color-icon: #696969;\n",
       "\n",
       "  @media (prefers-color-scheme: dark) {\n",
       "    /* Redefinition of color scheme for dark theme */\n",
       "    --sklearn-color-text-on-default-background: var(--sg-text-color, var(--theme-code-foreground, var(--jp-content-font-color1, white)));\n",
       "    --sklearn-color-background: var(--sg-background-color, var(--theme-background, var(--jp-layout-color0, #111)));\n",
       "    --sklearn-color-border-box: var(--sg-text-color, var(--theme-code-foreground, var(--jp-content-font-color1, white)));\n",
       "    --sklearn-color-icon: #878787;\n",
       "  }\n",
       "}\n",
       "\n",
       "#sk-container-id-3 {\n",
       "  color: var(--sklearn-color-text);\n",
       "}\n",
       "\n",
       "#sk-container-id-3 pre {\n",
       "  padding: 0;\n",
       "}\n",
       "\n",
       "#sk-container-id-3 input.sk-hidden--visually {\n",
       "  border: 0;\n",
       "  clip: rect(1px 1px 1px 1px);\n",
       "  clip: rect(1px, 1px, 1px, 1px);\n",
       "  height: 1px;\n",
       "  margin: -1px;\n",
       "  overflow: hidden;\n",
       "  padding: 0;\n",
       "  position: absolute;\n",
       "  width: 1px;\n",
       "}\n",
       "\n",
       "#sk-container-id-3 div.sk-dashed-wrapped {\n",
       "  border: 1px dashed var(--sklearn-color-line);\n",
       "  margin: 0 0.4em 0.5em 0.4em;\n",
       "  box-sizing: border-box;\n",
       "  padding-bottom: 0.4em;\n",
       "  background-color: var(--sklearn-color-background);\n",
       "}\n",
       "\n",
       "#sk-container-id-3 div.sk-container {\n",
       "  /* jupyter's `normalize.less` sets `[hidden] { display: none; }`\n",
       "     but bootstrap.min.css set `[hidden] { display: none !important; }`\n",
       "     so we also need the `!important` here to be able to override the\n",
       "     default hidden behavior on the sphinx rendered scikit-learn.org.\n",
       "     See: https://github.com/scikit-learn/scikit-learn/issues/21755 */\n",
       "  display: inline-block !important;\n",
       "  position: relative;\n",
       "}\n",
       "\n",
       "#sk-container-id-3 div.sk-text-repr-fallback {\n",
       "  display: none;\n",
       "}\n",
       "\n",
       "div.sk-parallel-item,\n",
       "div.sk-serial,\n",
       "div.sk-item {\n",
       "  /* draw centered vertical line to link estimators */\n",
       "  background-image: linear-gradient(var(--sklearn-color-text-on-default-background), var(--sklearn-color-text-on-default-background));\n",
       "  background-size: 2px 100%;\n",
       "  background-repeat: no-repeat;\n",
       "  background-position: center center;\n",
       "}\n",
       "\n",
       "/* Parallel-specific style estimator block */\n",
       "\n",
       "#sk-container-id-3 div.sk-parallel-item::after {\n",
       "  content: \"\";\n",
       "  width: 100%;\n",
       "  border-bottom: 2px solid var(--sklearn-color-text-on-default-background);\n",
       "  flex-grow: 1;\n",
       "}\n",
       "\n",
       "#sk-container-id-3 div.sk-parallel {\n",
       "  display: flex;\n",
       "  align-items: stretch;\n",
       "  justify-content: center;\n",
       "  background-color: var(--sklearn-color-background);\n",
       "  position: relative;\n",
       "}\n",
       "\n",
       "#sk-container-id-3 div.sk-parallel-item {\n",
       "  display: flex;\n",
       "  flex-direction: column;\n",
       "}\n",
       "\n",
       "#sk-container-id-3 div.sk-parallel-item:first-child::after {\n",
       "  align-self: flex-end;\n",
       "  width: 50%;\n",
       "}\n",
       "\n",
       "#sk-container-id-3 div.sk-parallel-item:last-child::after {\n",
       "  align-self: flex-start;\n",
       "  width: 50%;\n",
       "}\n",
       "\n",
       "#sk-container-id-3 div.sk-parallel-item:only-child::after {\n",
       "  width: 0;\n",
       "}\n",
       "\n",
       "/* Serial-specific style estimator block */\n",
       "\n",
       "#sk-container-id-3 div.sk-serial {\n",
       "  display: flex;\n",
       "  flex-direction: column;\n",
       "  align-items: center;\n",
       "  background-color: var(--sklearn-color-background);\n",
       "  padding-right: 1em;\n",
       "  padding-left: 1em;\n",
       "}\n",
       "\n",
       "\n",
       "/* Toggleable style: style used for estimator/Pipeline/ColumnTransformer box that is\n",
       "clickable and can be expanded/collapsed.\n",
       "- Pipeline and ColumnTransformer use this feature and define the default style\n",
       "- Estimators will overwrite some part of the style using the `sk-estimator` class\n",
       "*/\n",
       "\n",
       "/* Pipeline and ColumnTransformer style (default) */\n",
       "\n",
       "#sk-container-id-3 div.sk-toggleable {\n",
       "  /* Default theme specific background. It is overwritten whether we have a\n",
       "  specific estimator or a Pipeline/ColumnTransformer */\n",
       "  background-color: var(--sklearn-color-background);\n",
       "}\n",
       "\n",
       "/* Toggleable label */\n",
       "#sk-container-id-3 label.sk-toggleable__label {\n",
       "  cursor: pointer;\n",
       "  display: block;\n",
       "  width: 100%;\n",
       "  margin-bottom: 0;\n",
       "  padding: 0.5em;\n",
       "  box-sizing: border-box;\n",
       "  text-align: center;\n",
       "}\n",
       "\n",
       "#sk-container-id-3 label.sk-toggleable__label-arrow:before {\n",
       "  /* Arrow on the left of the label */\n",
       "  content: \"▸\";\n",
       "  float: left;\n",
       "  margin-right: 0.25em;\n",
       "  color: var(--sklearn-color-icon);\n",
       "}\n",
       "\n",
       "#sk-container-id-3 label.sk-toggleable__label-arrow:hover:before {\n",
       "  color: var(--sklearn-color-text);\n",
       "}\n",
       "\n",
       "/* Toggleable content - dropdown */\n",
       "\n",
       "#sk-container-id-3 div.sk-toggleable__content {\n",
       "  max-height: 0;\n",
       "  max-width: 0;\n",
       "  overflow: hidden;\n",
       "  text-align: left;\n",
       "  /* unfitted */\n",
       "  background-color: var(--sklearn-color-unfitted-level-0);\n",
       "}\n",
       "\n",
       "#sk-container-id-3 div.sk-toggleable__content.fitted {\n",
       "  /* fitted */\n",
       "  background-color: var(--sklearn-color-fitted-level-0);\n",
       "}\n",
       "\n",
       "#sk-container-id-3 div.sk-toggleable__content pre {\n",
       "  margin: 0.2em;\n",
       "  border-radius: 0.25em;\n",
       "  color: var(--sklearn-color-text);\n",
       "  /* unfitted */\n",
       "  background-color: var(--sklearn-color-unfitted-level-0);\n",
       "}\n",
       "\n",
       "#sk-container-id-3 div.sk-toggleable__content.fitted pre {\n",
       "  /* unfitted */\n",
       "  background-color: var(--sklearn-color-fitted-level-0);\n",
       "}\n",
       "\n",
       "#sk-container-id-3 input.sk-toggleable__control:checked~div.sk-toggleable__content {\n",
       "  /* Expand drop-down */\n",
       "  max-height: 200px;\n",
       "  max-width: 100%;\n",
       "  overflow: auto;\n",
       "}\n",
       "\n",
       "#sk-container-id-3 input.sk-toggleable__control:checked~label.sk-toggleable__label-arrow:before {\n",
       "  content: \"▾\";\n",
       "}\n",
       "\n",
       "/* Pipeline/ColumnTransformer-specific style */\n",
       "\n",
       "#sk-container-id-3 div.sk-label input.sk-toggleable__control:checked~label.sk-toggleable__label {\n",
       "  color: var(--sklearn-color-text);\n",
       "  background-color: var(--sklearn-color-unfitted-level-2);\n",
       "}\n",
       "\n",
       "#sk-container-id-3 div.sk-label.fitted input.sk-toggleable__control:checked~label.sk-toggleable__label {\n",
       "  background-color: var(--sklearn-color-fitted-level-2);\n",
       "}\n",
       "\n",
       "/* Estimator-specific style */\n",
       "\n",
       "/* Colorize estimator box */\n",
       "#sk-container-id-3 div.sk-estimator input.sk-toggleable__control:checked~label.sk-toggleable__label {\n",
       "  /* unfitted */\n",
       "  background-color: var(--sklearn-color-unfitted-level-2);\n",
       "}\n",
       "\n",
       "#sk-container-id-3 div.sk-estimator.fitted input.sk-toggleable__control:checked~label.sk-toggleable__label {\n",
       "  /* fitted */\n",
       "  background-color: var(--sklearn-color-fitted-level-2);\n",
       "}\n",
       "\n",
       "#sk-container-id-3 div.sk-label label.sk-toggleable__label,\n",
       "#sk-container-id-3 div.sk-label label {\n",
       "  /* The background is the default theme color */\n",
       "  color: var(--sklearn-color-text-on-default-background);\n",
       "}\n",
       "\n",
       "/* On hover, darken the color of the background */\n",
       "#sk-container-id-3 div.sk-label:hover label.sk-toggleable__label {\n",
       "  color: var(--sklearn-color-text);\n",
       "  background-color: var(--sklearn-color-unfitted-level-2);\n",
       "}\n",
       "\n",
       "/* Label box, darken color on hover, fitted */\n",
       "#sk-container-id-3 div.sk-label.fitted:hover label.sk-toggleable__label.fitted {\n",
       "  color: var(--sklearn-color-text);\n",
       "  background-color: var(--sklearn-color-fitted-level-2);\n",
       "}\n",
       "\n",
       "/* Estimator label */\n",
       "\n",
       "#sk-container-id-3 div.sk-label label {\n",
       "  font-family: monospace;\n",
       "  font-weight: bold;\n",
       "  display: inline-block;\n",
       "  line-height: 1.2em;\n",
       "}\n",
       "\n",
       "#sk-container-id-3 div.sk-label-container {\n",
       "  text-align: center;\n",
       "}\n",
       "\n",
       "/* Estimator-specific */\n",
       "#sk-container-id-3 div.sk-estimator {\n",
       "  font-family: monospace;\n",
       "  border: 1px dotted var(--sklearn-color-border-box);\n",
       "  border-radius: 0.25em;\n",
       "  box-sizing: border-box;\n",
       "  margin-bottom: 0.5em;\n",
       "  /* unfitted */\n",
       "  background-color: var(--sklearn-color-unfitted-level-0);\n",
       "}\n",
       "\n",
       "#sk-container-id-3 div.sk-estimator.fitted {\n",
       "  /* fitted */\n",
       "  background-color: var(--sklearn-color-fitted-level-0);\n",
       "}\n",
       "\n",
       "/* on hover */\n",
       "#sk-container-id-3 div.sk-estimator:hover {\n",
       "  /* unfitted */\n",
       "  background-color: var(--sklearn-color-unfitted-level-2);\n",
       "}\n",
       "\n",
       "#sk-container-id-3 div.sk-estimator.fitted:hover {\n",
       "  /* fitted */\n",
       "  background-color: var(--sklearn-color-fitted-level-2);\n",
       "}\n",
       "\n",
       "/* Specification for estimator info (e.g. \"i\" and \"?\") */\n",
       "\n",
       "/* Common style for \"i\" and \"?\" */\n",
       "\n",
       ".sk-estimator-doc-link,\n",
       "a:link.sk-estimator-doc-link,\n",
       "a:visited.sk-estimator-doc-link {\n",
       "  float: right;\n",
       "  font-size: smaller;\n",
       "  line-height: 1em;\n",
       "  font-family: monospace;\n",
       "  background-color: var(--sklearn-color-background);\n",
       "  border-radius: 1em;\n",
       "  height: 1em;\n",
       "  width: 1em;\n",
       "  text-decoration: none !important;\n",
       "  margin-left: 1ex;\n",
       "  /* unfitted */\n",
       "  border: var(--sklearn-color-unfitted-level-1) 1pt solid;\n",
       "  color: var(--sklearn-color-unfitted-level-1);\n",
       "}\n",
       "\n",
       ".sk-estimator-doc-link.fitted,\n",
       "a:link.sk-estimator-doc-link.fitted,\n",
       "a:visited.sk-estimator-doc-link.fitted {\n",
       "  /* fitted */\n",
       "  border: var(--sklearn-color-fitted-level-1) 1pt solid;\n",
       "  color: var(--sklearn-color-fitted-level-1);\n",
       "}\n",
       "\n",
       "/* On hover */\n",
       "div.sk-estimator:hover .sk-estimator-doc-link:hover,\n",
       ".sk-estimator-doc-link:hover,\n",
       "div.sk-label-container:hover .sk-estimator-doc-link:hover,\n",
       ".sk-estimator-doc-link:hover {\n",
       "  /* unfitted */\n",
       "  background-color: var(--sklearn-color-unfitted-level-3);\n",
       "  color: var(--sklearn-color-background);\n",
       "  text-decoration: none;\n",
       "}\n",
       "\n",
       "div.sk-estimator.fitted:hover .sk-estimator-doc-link.fitted:hover,\n",
       ".sk-estimator-doc-link.fitted:hover,\n",
       "div.sk-label-container:hover .sk-estimator-doc-link.fitted:hover,\n",
       ".sk-estimator-doc-link.fitted:hover {\n",
       "  /* fitted */\n",
       "  background-color: var(--sklearn-color-fitted-level-3);\n",
       "  color: var(--sklearn-color-background);\n",
       "  text-decoration: none;\n",
       "}\n",
       "\n",
       "/* Span, style for the box shown on hovering the info icon */\n",
       ".sk-estimator-doc-link span {\n",
       "  display: none;\n",
       "  z-index: 9999;\n",
       "  position: relative;\n",
       "  font-weight: normal;\n",
       "  right: .2ex;\n",
       "  padding: .5ex;\n",
       "  margin: .5ex;\n",
       "  width: min-content;\n",
       "  min-width: 20ex;\n",
       "  max-width: 50ex;\n",
       "  color: var(--sklearn-color-text);\n",
       "  box-shadow: 2pt 2pt 4pt #999;\n",
       "  /* unfitted */\n",
       "  background: var(--sklearn-color-unfitted-level-0);\n",
       "  border: .5pt solid var(--sklearn-color-unfitted-level-3);\n",
       "}\n",
       "\n",
       ".sk-estimator-doc-link.fitted span {\n",
       "  /* fitted */\n",
       "  background: var(--sklearn-color-fitted-level-0);\n",
       "  border: var(--sklearn-color-fitted-level-3);\n",
       "}\n",
       "\n",
       ".sk-estimator-doc-link:hover span {\n",
       "  display: block;\n",
       "}\n",
       "\n",
       "/* \"?\"-specific style due to the `<a>` HTML tag */\n",
       "\n",
       "#sk-container-id-3 a.estimator_doc_link {\n",
       "  float: right;\n",
       "  font-size: 1rem;\n",
       "  line-height: 1em;\n",
       "  font-family: monospace;\n",
       "  background-color: var(--sklearn-color-background);\n",
       "  border-radius: 1rem;\n",
       "  height: 1rem;\n",
       "  width: 1rem;\n",
       "  text-decoration: none;\n",
       "  /* unfitted */\n",
       "  color: var(--sklearn-color-unfitted-level-1);\n",
       "  border: var(--sklearn-color-unfitted-level-1) 1pt solid;\n",
       "}\n",
       "\n",
       "#sk-container-id-3 a.estimator_doc_link.fitted {\n",
       "  /* fitted */\n",
       "  border: var(--sklearn-color-fitted-level-1) 1pt solid;\n",
       "  color: var(--sklearn-color-fitted-level-1);\n",
       "}\n",
       "\n",
       "/* On hover */\n",
       "#sk-container-id-3 a.estimator_doc_link:hover {\n",
       "  /* unfitted */\n",
       "  background-color: var(--sklearn-color-unfitted-level-3);\n",
       "  color: var(--sklearn-color-background);\n",
       "  text-decoration: none;\n",
       "}\n",
       "\n",
       "#sk-container-id-3 a.estimator_doc_link.fitted:hover {\n",
       "  /* fitted */\n",
       "  background-color: var(--sklearn-color-fitted-level-3);\n",
       "}\n",
       "</style><div id=\"sk-container-id-3\" class=\"sk-top-container\"><div class=\"sk-text-repr-fallback\"><pre>LGBMRegressor(random_state=42)</pre><b>In a Jupyter environment, please rerun this cell to show the HTML representation or trust the notebook. <br />On GitHub, the HTML representation is unable to render, please try loading this page with nbviewer.org.</b></div><div class=\"sk-container\" hidden><div class=\"sk-item\"><div class=\"sk-estimator fitted sk-toggleable\"><input class=\"sk-toggleable__control sk-hidden--visually\" id=\"sk-estimator-id-3\" type=\"checkbox\" checked><label for=\"sk-estimator-id-3\" class=\"sk-toggleable__label fitted sk-toggleable__label-arrow fitted\">&nbsp;LGBMRegressor<span class=\"sk-estimator-doc-link fitted\">i<span>Fitted</span></span></label><div class=\"sk-toggleable__content fitted\"><pre>LGBMRegressor(random_state=42)</pre></div> </div></div></div></div>"
      ],
      "text/plain": [
       "LGBMRegressor(random_state=42)"
      ]
     },
     "execution_count": 33,
     "metadata": {},
     "output_type": "execute_result"
    }
   ],
   "source": [
    "# === 4. Train LightGBM Model ===\n",
    "model = lgb.LGBMRegressor(random_state=42)\n",
    "model.fit(X_train_model, y_train)"
   ]
  },
  {
   "cell_type": "code",
   "execution_count": 34,
   "id": "dc9fa0f8",
   "metadata": {},
   "outputs": [
    {
     "name": "stdout",
     "output_type": "stream",
     "text": [
      "📉 MAE (LightGBM, all 28-day lags): 1.1889\n"
     ]
    }
   ],
   "source": [
    "# === 5. Predict & Evaluate ===\n",
    "predictions = model.predict(X_test_model).astype(int)\n",
    "mae = mean_absolute_error(y_test, predictions)\n",
    "print(f\"📉 MAE (LightGBM, all 28-day lags): {mae:.4f}\")"
   ]
  },
  {
   "cell_type": "markdown",
   "id": "11a59475",
   "metadata": {},
   "source": [
    "# Feature Reduction"
   ]
  },
  {
   "cell_type": "code",
   "execution_count": 35,
   "id": "798fd7a3",
   "metadata": {},
   "outputs": [
    {
     "name": "stdout",
     "output_type": "stream",
     "text": [
      "Top 10 features by importance:\n",
      "Index(['rides_t-464', 'rides_t-44', 'rides_t-55', 'rides_t-1', 'rides_t-5',\n",
      "       'rides_t-29', 'rides_t-247', 'rides_t-372', 'rides_t-60', 'rides_t-84'],\n",
      "      dtype='object')\n"
     ]
    },
    {
     "data": {
      "image/png": "[encoded data removed]",
      "text/plain": [
       "<Figure size 1000x600 with 1 Axes>"
      ]
     },
     "metadata": {},
     "output_type": "display_data"
    }
   ],
   "source": [
    "import numpy as np\n",
    "import pandas as pd\n",
    "import matplotlib.pyplot as plt\n",
    "\n",
    "# Assuming you already have this from notebook 08\n",
    "full_model = model  # Your trained LGBM model\n",
    "full_feature_names = X_train_model.columns\n",
    "importances = full_model.feature_importances_\n",
    "\n",
    "# Get top 10 features\n",
    "top_10_idx = np.argsort(importances)[-10:][::-1]\n",
    "top_10_features = full_feature_names[top_10_idx]\n",
    "\n",
    "print(\"Top 10 features by importance:\")\n",
    "print(top_10_features)\n",
    "\n",
    "# Optional: visualize them\n",
    "plt.figure(figsize=(10, 6))\n",
    "plt.barh(top_10_features[::-1], importances[top_10_idx][::-1])\n",
    "plt.xlabel(\"Feature Importance\")\n",
    "plt.title(\"Top 10 Lag Features (by LGBM)\")\n",
    "plt.tight_layout()\n",
    "plt.show()\n"
   ]
  },
  {
   "cell_type": "code",
   "execution_count": 36,
   "id": "40308e77",
   "metadata": {},
   "outputs": [
    {
     "name": "stdout",
     "output_type": "stream",
     "text": [
      "[LightGBM] [Info] Auto-choosing col-wise multi-threading, the overhead of testing was 0.000110 seconds.\n",
      "You can set `force_col_wise=true` to remove the overhead.\n",
      "[LightGBM] [Info] Total Bins 328\n",
      "[LightGBM] [Info] Number of data points in the train set: 924, number of used features: 10\n",
      "[LightGBM] [Info] Start training from score 0.490260\n",
      "📉 MAE (LGBM, top 10 lags): 1.5222\n"
     ]
    }
   ],
   "source": [
    "from lightgbm import LGBMRegressor\n",
    "from sklearn.metrics import mean_absolute_error\n",
    "from datetime import datetime\n",
    "from dotenv import load_dotenv\n",
    "from src.experiment_utils import set_mlflow_tracking, log_model_to_mlflow\n",
    "\n",
    "# Filter training/testing data\n",
    "X_train_reduced = X_train_model[top_10_features]\n",
    "X_test_reduced = X_test_model[top_10_features]\n",
    "\n",
    "# Train reduced model\n",
    "reduced_model = LGBMRegressor(random_state=42)\n",
    "reduced_model.fit(X_train_reduced, y_train)\n",
    "\n",
    "# Evaluate\n",
    "predictions = np.round(reduced_model.predict(X_test_reduced)).astype(int)\n",
    "mae = mean_absolute_error(y_test, predictions)\n",
    "print(f\"📉 MAE (LGBM, top 10 lags): {mae:.4f}\")\n"
   ]
  },
  {
   "cell_type": "code",
   "execution_count": 37,
   "id": "364656f9",
   "metadata": {},
   "outputs": [
    {
     "name": "stderr",
     "output_type": "stream",
     "text": [
      "INFO:src.experiment_utils:MLflow tracking URI and credentials set.\n",
      "INFO:src.experiment_utils:Experiment set to: LGBM_Top10_Features\n",
      "INFO:src.experiment_utils:Logged parameters: {'boosting_type': 'gbdt', 'class_weight': None, 'colsample_bytree': 1.0, 'importance_type': 'split', 'learning_rate': 0.1, 'max_depth': -1, 'min_child_samples': 20, 'min_child_weight': 0.001, 'min_split_gain': 0.0, 'n_estimators': 100, 'n_jobs': None, 'num_leaves': 31, 'objective': None, 'random_state': 42, 'reg_alpha': 0.0, 'reg_lambda': 0.0, 'subsample': 1.0, 'subsample_for_bin': 200000, 'subsample_freq': 0}\n",
      "INFO:src.experiment_utils:Logged mae: 1.5222222222222221\n",
      "c:\\Users\\vidyu\\AppData\\Local\\Programs\\Python\\Python311\\Lib\\site-packages\\mlflow\\types\\utils.py:452: UserWarning:\n",
      "\n",
      "Hint: Inferred schema contains integer column(s). Integer columns in Python cannot represent missing values. If your input data contains missing values at inference time, it will be encoded as floats and will cause a schema enforcement error. The best way to avoid this problem is to infer the model schema based on a realistic data sample (training dataset) that includes missing values. Alternatively, you can declare integer columns as doubles (float64) whenever these columns may have missing values. See `Handling Integers With Missing Values <https://www.mlflow.org/docs/latest/models.html#handling-integers-with-missing-values>`_ for more details.\n",
      "\n",
      "INFO:src.experiment_utils:Model signature inferred.\n",
      "Downloading artifacts: 100%|██████████| 7/7 [00:00<00:00, 1046.07it/s]\n",
      "Registered model 'LGBMRegressor' already exists. Creating a new version of this model...\n",
      "2025/05/09 21:16:01 INFO mlflow.store.model_registry.abstract_store: Waiting up to 300 seconds for model version to finish creation. Model name: LGBMRegressor, version 7\n",
      "Created version '7' of model 'LGBMRegressor'.\n",
      "INFO:src.experiment_utils:Model logged with name: LGBMRegressor\n"
     ]
    },
    {
     "name": "stdout",
     "output_type": "stream",
     "text": [
      "🏃 View run sassy-lamb-611 at: https://dagshub.com/vidyuthkrishna03/citibike-ride-prediction.mlflow/#/experiments/2/runs/1da1be11f1974f67905f21fcb4741c7e\n",
      "🧪 View experiment at: https://dagshub.com/vidyuthkrishna03/citibike-ride-prediction.mlflow/#/experiments/2\n"
     ]
    },
    {
     "data": {
      "text/plain": [
       "<mlflow.models.model.ModelInfo at 0x269a513e6d0>"
      ]
     },
     "execution_count": 37,
     "metadata": {},
     "output_type": "execute_result"
    }
   ],
   "source": [
    "load_dotenv()\n",
    "mlflow = set_mlflow_tracking()\n",
    "\n",
    "log_model_to_mlflow(\n",
    "    model=reduced_model,\n",
    "    input_data=X_test_reduced,\n",
    "    experiment_name=\"LGBM_Top10_Features\",\n",
    "    metric_name=\"mae\",\n",
    "    score=mae,\n",
    "    params=reduced_model.get_params()\n",
    ")\n"
   ]
  },
  {
   "cell_type": "code",
   "execution_count": 27,
   "id": "670becc3",
   "metadata": {},
   "outputs": [
    {
     "data": {
      "application/vnd.plotly.v1+json": {
       "config": {
        "plotlyServerURL": "https://plot.ly"
       },
       "data": [
        {
         "hovertemplate": "Time=%{x}<br>Ride Counts=%{y}<extra></extra>",
         "legendgroup": "",
         "line": {
          "color": "#636efa",
          "dash": "solid"
         },
         "marker": {
          "symbol": "circle"
         },
         "mode": "lines+markers",
         "name": "",
         "orientation": "v",
         "showlegend": false,
         "type": "scatter",
         "x": [
          "2024-03-24T03:00:00.000000000",
          "2024-03-24T04:00:00.000000000",
          "2024-03-24T05:00:00.000000000",
          "2024-03-24T06:00:00.000000000",
          "2024-03-24T07:00:00.000000000",
          "2024-03-24T08:00:00.000000000",
          "2024-03-24T09:00:00.000000000",
          "2024-03-24T10:00:00.000000000",
          "2024-03-24T11:00:00.000000000",
          "2024-03-24T12:00:00.000000000",
          "2024-03-24T13:00:00.000000000",
          "2024-03-24T14:00:00.000000000",
          "2024-03-24T15:00:00.000000000",
          "2024-03-24T16:00:00.000000000",
          "2024-03-24T17:00:00.000000000",
          "2024-03-24T18:00:00.000000000",
          "2024-03-24T19:00:00.000000000",
          "2024-03-24T20:00:00.000000000",
          "2024-03-24T21:00:00.000000000",
          "2024-03-24T22:00:00.000000000",
          "2024-03-24T23:00:00.000000000",
          "2024-03-25T00:00:00.000000000",
          "2024-03-25T01:00:00.000000000",
          "2024-03-25T02:00:00.000000000",
          "2024-03-25T03:00:00.000000000",
          "2024-03-25T04:00:00.000000000",
          "2024-03-25T05:00:00.000000000",
          "2024-03-25T06:00:00.000000000",
          "2024-03-25T07:00:00.000000000",
          "2024-03-25T08:00:00.000000000",
          "2024-03-25T09:00:00.000000000",
          "2024-03-25T10:00:00.000000000",
          "2024-03-25T11:00:00.000000000",
          "2024-03-25T12:00:00.000000000",
          "2024-03-25T13:00:00.000000000",
          "2024-03-25T14:00:00.000000000",
          "2024-03-25T15:00:00.000000000",
          "2024-03-25T16:00:00.000000000",
          "2024-03-25T17:00:00.000000000",
          "2024-03-25T18:00:00.000000000",
          "2024-03-25T19:00:00.000000000",
          "2024-03-25T20:00:00.000000000",
          "2024-03-25T21:00:00.000000000",
          "2024-03-25T22:00:00.000000000",
          "2024-03-25T23:00:00.000000000",
          "2024-03-26T00:00:00.000000000",
          "2024-03-26T01:00:00.000000000",
          "2024-03-26T02:00:00.000000000",
          "2024-03-26T03:00:00.000000000",
          "2024-03-26T04:00:00.000000000",
          "2024-03-26T05:00:00.000000000",
          "2024-03-26T06:00:00.000000000",
          "2024-03-26T07:00:00.000000000",
          "2024-03-26T08:00:00.000000000",
          "2024-03-26T09:00:00.000000000",
          "2024-03-26T10:00:00.000000000",
          "2024-03-26T11:00:00.000000000",
          "2024-03-26T12:00:00.000000000",
          "2024-03-26T13:00:00.000000000",
          "2024-03-26T14:00:00.000000000",
          "2024-03-26T15:00:00.000000000",
          "2024-03-26T16:00:00.000000000",
          "2024-03-26T17:00:00.000000000",
          "2024-03-26T18:00:00.000000000",
          "2024-03-26T19:00:00.000000000",
          "2024-03-26T20:00:00.000000000",
          "2024-03-26T21:00:00.000000000",
          "2024-03-26T22:00:00.000000000",
          "2024-03-26T23:00:00.000000000",
          "2024-03-27T00:00:00.000000000",
          "2024-03-27T01:00:00.000000000",
          "2024-03-27T02:00:00.000000000",
          "2024-03-27T03:00:00.000000000",
          "2024-03-27T04:00:00.000000000",
          "2024-03-27T05:00:00.000000000",
          "2024-03-27T06:00:00.000000000",
          "2024-03-27T07:00:00.000000000",
          "2024-03-27T08:00:00.000000000",
          "2024-03-27T09:00:00.000000000",
          "2024-03-27T10:00:00.000000000",
          "2024-03-27T11:00:00.000000000",
          "2024-03-27T12:00:00.000000000",
          "2024-03-27T13:00:00.000000000",
          "2024-03-27T14:00:00.000000000",
          "2024-03-27T15:00:00.000000000",
          "2024-03-27T16:00:00.000000000",
          "2024-03-27T17:00:00.000000000",
          "2024-03-27T18:00:00.000000000",
          "2024-03-27T19:00:00.000000000",
          "2024-03-27T20:00:00.000000000",
          "2024-03-27T21:00:00.000000000",
          "2024-03-27T22:00:00.000000000",
          "2024-03-27T23:00:00.000000000",
          "2024-03-28T00:00:00.000000000",
          "2024-03-28T01:00:00.000000000",
          "2024-03-28T02:00:00.000000000",
          "2024-03-28T03:00:00.000000000",
          "2024-03-28T04:00:00.000000000",
          "2024-03-28T05:00:00.000000000",
          "2024-03-28T06:00:00.000000000",
          "2024-03-28T07:00:00.000000000",
          "2024-03-28T08:00:00.000000000",
          "2024-03-28T09:00:00.000000000",
          "2024-03-28T10:00:00.000000000",
          "2024-03-28T11:00:00.000000000",
          "2024-03-28T12:00:00.000000000",
          "2024-03-28T13:00:00.000000000",
          "2024-03-28T14:00:00.000000000",
          "2024-03-28T15:00:00.000000000",
          "2024-03-28T16:00:00.000000000",
          "2024-03-28T17:00:00.000000000",
          "2024-03-28T18:00:00.000000000",
          "2024-03-28T19:00:00.000000000",
          "2024-03-28T20:00:00.000000000",
          "2024-03-28T21:00:00.000000000",
          "2024-03-28T22:00:00.000000000",
          "2024-03-28T23:00:00.000000000",
          "2024-03-29T00:00:00.000000000",
          "2024-03-29T01:00:00.000000000",
          "2024-03-29T02:00:00.000000000",
          "2024-03-29T03:00:00.000000000",
          "2024-03-29T04:00:00.000000000",
          "2024-03-29T05:00:00.000000000",
          "2024-03-29T06:00:00.000000000",
          "2024-03-29T07:00:00.000000000",
          "2024-03-29T08:00:00.000000000",
          "2024-03-29T09:00:00.000000000",
          "2024-03-29T10:00:00.000000000",
          "2024-03-29T11:00:00.000000000",
          "2024-03-29T12:00:00.000000000",
          "2024-03-29T13:00:00.000000000",
          "2024-03-29T14:00:00.000000000",
          "2024-03-29T15:00:00.000000000",
          "2024-03-29T16:00:00.000000000",
          "2024-03-29T17:00:00.000000000",
          "2024-03-29T18:00:00.000000000",
          "2024-03-29T19:00:00.000000000",
          "2024-03-29T20:00:00.000000000",
          "2024-03-29T21:00:00.000000000",
          "2024-03-29T22:00:00.000000000",
          "2024-03-29T23:00:00.000000000",
          "2024-03-30T00:00:00.000000000",
          "2024-03-30T01:00:00.000000000",
          "2024-03-30T02:00:00.000000000",
          "2024-03-30T03:00:00.000000000",
          "2024-03-30T04:00:00.000000000",
          "2024-03-30T05:00:00.000000000",
          "2024-03-30T06:00:00.000000000",
          "2024-03-30T07:00:00.000000000",
          "2024-03-30T08:00:00.000000000",
          "2024-03-30T09:00:00.000000000",
          "2024-03-30T10:00:00.000000000",
          "2024-03-30T11:00:00.000000000",
          "2024-03-30T12:00:00.000000000",
          "2024-03-30T13:00:00.000000000",
          "2024-03-30T14:00:00.000000000",
          "2024-03-30T15:00:00.000000000",
          "2024-03-30T16:00:00.000000000",
          "2024-03-30T17:00:00.000000000",
          "2024-03-30T18:00:00.000000000",
          "2024-03-30T19:00:00.000000000",
          "2024-03-30T20:00:00.000000000",
          "2024-03-30T21:00:00.000000000",
          "2024-03-30T22:00:00.000000000",
          "2024-03-30T23:00:00.000000000",
          "2024-03-31T00:00:00.000000000",
          "2024-03-31T01:00:00.000000000",
          "2024-03-31T02:00:00.000000000",
          "2024-03-31T03:00:00.000000000",
          "2024-03-31T04:00:00.000000000",
          "2024-03-31T05:00:00.000000000",
          "2024-03-31T06:00:00.000000000",
          "2024-03-31T07:00:00.000000000",
          "2024-03-31T08:00:00.000000000",
          "2024-03-31T09:00:00.000000000",
          "2024-03-31T10:00:00.000000000",
          "2024-03-31T11:00:00.000000000",
          "2024-03-31T12:00:00.000000000",
          "2024-03-31T13:00:00.000000000",
          "2024-03-31T14:00:00.000000000",
          "2024-03-31T15:00:00.000000000",
          "2024-03-31T16:00:00.000000000",
          "2024-03-31T17:00:00.000000000",
          "2024-03-31T18:00:00.000000000",
          "2024-03-31T19:00:00.000000000",
          "2024-03-31T20:00:00.000000000",
          "2024-03-31T21:00:00.000000000",
          "2024-03-31T22:00:00.000000000",
          "2024-03-31T23:00:00.000000000",
          "2024-04-01T00:00:00.000000000",
          "2024-04-01T01:00:00.000000000",
          "2024-04-01T02:00:00.000000000",
          "2024-04-01T03:00:00.000000000",
          "2024-04-01T04:00:00.000000000",
          "2024-04-01T05:00:00.000000000",
          "2024-04-01T06:00:00.000000000",
          "2024-04-01T07:00:00.000000000",
          "2024-04-01T08:00:00.000000000",
          "2024-04-01T09:00:00.000000000",
          "2024-04-01T10:00:00.000000000",
          "2024-04-01T11:00:00.000000000",
          "2024-04-01T12:00:00.000000000",
          "2024-04-01T13:00:00.000000000",
          "2024-04-01T14:00:00.000000000",
          "2024-04-01T15:00:00.000000000",
          "2024-04-01T16:00:00.000000000",
          "2024-04-01T17:00:00.000000000",
          "2024-04-01T18:00:00.000000000",
          "2024-04-01T19:00:00.000000000",
          "2024-04-01T20:00:00.000000000",
          "2024-04-01T21:00:00.000000000",
          "2024-04-01T22:00:00.000000000",
          "2024-04-01T23:00:00.000000000",
          "2024-04-02T00:00:00.000000000",
          "2024-04-02T01:00:00.000000000",
          "2024-04-02T02:00:00.000000000",
          "2024-04-02T03:00:00.000000000",
          "2024-04-02T04:00:00.000000000",
          "2024-04-02T05:00:00.000000000",
          "2024-04-02T06:00:00.000000000",
          "2024-04-02T07:00:00.000000000",
          "2024-04-02T08:00:00.000000000",
          "2024-04-02T09:00:00.000000000",
          "2024-04-02T10:00:00.000000000",
          "2024-04-02T11:00:00.000000000",
          "2024-04-02T12:00:00.000000000",
          "2024-04-02T13:00:00.000000000",
          "2024-04-02T14:00:00.000000000",
          "2024-04-02T15:00:00.000000000",
          "2024-04-02T16:00:00.000000000",
          "2024-04-02T17:00:00.000000000",
          "2024-04-02T18:00:00.000000000",
          "2024-04-02T19:00:00.000000000",
          "2024-04-02T20:00:00.000000000",
          "2024-04-02T21:00:00.000000000",
          "2024-04-02T22:00:00.000000000",
          "2024-04-02T23:00:00.000000000",
          "2024-04-03T00:00:00.000000000",
          "2024-04-03T01:00:00.000000000",
          "2024-04-03T02:00:00.000000000",
          "2024-04-03T03:00:00.000000000",
          "2024-04-03T04:00:00.000000000",
          "2024-04-03T05:00:00.000000000",
          "2024-04-03T06:00:00.000000000",
          "2024-04-03T07:00:00.000000000",
          "2024-04-03T08:00:00.000000000",
          "2024-04-03T09:00:00.000000000",
          "2024-04-03T10:00:00.000000000",
          "2024-04-03T11:00:00.000000000",
          "2024-04-03T12:00:00.000000000",
          "2024-04-03T13:00:00.000000000",
          "2024-04-03T14:00:00.000000000",
          "2024-04-03T15:00:00.000000000",
          "2024-04-03T16:00:00.000000000",
          "2024-04-03T17:00:00.000000000",
          "2024-04-03T18:00:00.000000000",
          "2024-04-03T19:00:00.000000000",
          "2024-04-03T20:00:00.000000000",
          "2024-04-03T21:00:00.000000000",
          "2024-04-03T22:00:00.000000000",
          "2024-04-03T23:00:00.000000000",
          "2024-04-04T00:00:00.000000000",
          "2024-04-04T01:00:00.000000000",
          "2024-04-04T02:00:00.000000000",
          "2024-04-04T03:00:00.000000000",
          "2024-04-04T04:00:00.000000000",
          "2024-04-04T05:00:00.000000000",
          "2024-04-04T06:00:00.000000000",
          "2024-04-04T07:00:00.000000000",
          "2024-04-04T08:00:00.000000000",
          "2024-04-04T09:00:00.000000000",
          "2024-04-04T10:00:00.000000000",
          "2024-04-04T11:00:00.000000000",
          "2024-04-04T12:00:00.000000000",
          "2024-04-04T13:00:00.000000000",
          "2024-04-04T14:00:00.000000000",
          "2024-04-04T15:00:00.000000000",
          "2024-04-04T16:00:00.000000000",
          "2024-04-04T17:00:00.000000000",
          "2024-04-04T18:00:00.000000000",
          "2024-04-04T19:00:00.000000000",
          "2024-04-04T20:00:00.000000000",
          "2024-04-04T21:00:00.000000000",
          "2024-04-04T22:00:00.000000000",
          "2024-04-04T23:00:00.000000000",
          "2024-04-05T00:00:00.000000000",
          "2024-04-05T01:00:00.000000000",
          "2024-04-05T02:00:00.000000000",
          "2024-04-05T03:00:00.000000000",
          "2024-04-05T04:00:00.000000000",
          "2024-04-05T05:00:00.000000000",
          "2024-04-05T06:00:00.000000000",
          "2024-04-05T07:00:00.000000000",
          "2024-04-05T08:00:00.000000000",
          "2024-04-05T09:00:00.000000000",
          "2024-04-05T10:00:00.000000000",
          "2024-04-05T11:00:00.000000000",
          "2024-04-05T12:00:00.000000000",
          "2024-04-05T13:00:00.000000000",
          "2024-04-05T14:00:00.000000000",
          "2024-04-05T15:00:00.000000000",
          "2024-04-05T16:00:00.000000000",
          "2024-04-05T17:00:00.000000000",
          "2024-04-05T18:00:00.000000000",
          "2024-04-05T19:00:00.000000000",
          "2024-04-05T20:00:00.000000000",
          "2024-04-05T21:00:00.000000000",
          "2024-04-05T22:00:00.000000000",
          "2024-04-05T23:00:00.000000000",
          "2024-04-06T00:00:00.000000000",
          "2024-04-06T01:00:00.000000000",
          "2024-04-06T02:00:00.000000000",
          "2024-04-06T03:00:00.000000000",
          "2024-04-06T04:00:00.000000000",
          "2024-04-06T05:00:00.000000000",
          "2024-04-06T06:00:00.000000000",
          "2024-04-06T07:00:00.000000000",
          "2024-04-06T08:00:00.000000000",
          "2024-04-06T09:00:00.000000000",
          "2024-04-06T10:00:00.000000000",
          "2024-04-06T11:00:00.000000000",
          "2024-04-06T12:00:00.000000000",
          "2024-04-06T13:00:00.000000000",
          "2024-04-06T14:00:00.000000000",
          "2024-04-06T15:00:00.000000000",
          "2024-04-06T16:00:00.000000000",
          "2024-04-06T17:00:00.000000000",
          "2024-04-06T18:00:00.000000000",
          "2024-04-06T19:00:00.000000000",
          "2024-04-06T20:00:00.000000000",
          "2024-04-06T21:00:00.000000000",
          "2024-04-06T22:00:00.000000000",
          "2024-04-06T23:00:00.000000000",
          "2024-04-07T00:00:00.000000000",
          "2024-04-07T01:00:00.000000000",
          "2024-04-07T02:00:00.000000000",
          "2024-04-07T03:00:00.000000000",
          "2024-04-07T04:00:00.000000000",
          "2024-04-07T05:00:00.000000000",
          "2024-04-07T06:00:00.000000000",
          "2024-04-07T07:00:00.000000000",
          "2024-04-07T08:00:00.000000000",
          "2024-04-07T09:00:00.000000000",
          "2024-04-07T10:00:00.000000000",
          "2024-04-07T11:00:00.000000000",
          "2024-04-07T12:00:00.000000000",
          "2024-04-07T13:00:00.000000000",
          "2024-04-07T14:00:00.000000000",
          "2024-04-07T15:00:00.000000000",
          "2024-04-07T16:00:00.000000000",
          "2024-04-07T17:00:00.000000000",
          "2024-04-07T18:00:00.000000000",
          "2024-04-07T19:00:00.000000000",
          "2024-04-07T20:00:00.000000000",
          "2024-04-07T21:00:00.000000000",
          "2024-04-07T22:00:00.000000000",
          "2024-04-07T23:00:00.000000000",
          "2024-04-08T00:00:00.000000000",
          "2024-04-08T01:00:00.000000000",
          "2024-04-08T02:00:00.000000000",
          "2024-04-08T03:00:00.000000000",
          "2024-04-08T04:00:00.000000000",
          "2024-04-08T05:00:00.000000000",
          "2024-04-08T06:00:00.000000000",
          "2024-04-08T07:00:00.000000000",
          "2024-04-08T08:00:00.000000000",
          "2024-04-08T09:00:00.000000000",
          "2024-04-08T10:00:00.000000000",
          "2024-04-08T11:00:00.000000000",
          "2024-04-08T12:00:00.000000000",
          "2024-04-08T13:00:00.000000000",
          "2024-04-08T14:00:00.000000000",
          "2024-04-08T15:00:00.000000000",
          "2024-04-08T16:00:00.000000000",
          "2024-04-08T17:00:00.000000000",
          "2024-04-08T18:00:00.000000000",
          "2024-04-08T19:00:00.000000000",
          "2024-04-08T20:00:00.000000000",
          "2024-04-08T21:00:00.000000000",
          "2024-04-08T22:00:00.000000000",
          "2024-04-08T23:00:00.000000000",
          "2024-04-09T00:00:00.000000000",
          "2024-04-09T01:00:00.000000000",
          "2024-04-09T02:00:00.000000000",
          "2024-04-09T03:00:00.000000000",
          "2024-04-09T04:00:00.000000000",
          "2024-04-09T05:00:00.000000000",
          "2024-04-09T06:00:00.000000000",
          "2024-04-09T07:00:00.000000000",
          "2024-04-09T08:00:00.000000000",
          "2024-04-09T09:00:00.000000000",
          "2024-04-09T10:00:00.000000000",
          "2024-04-09T11:00:00.000000000",
          "2024-04-09T12:00:00.000000000",
          "2024-04-09T13:00:00.000000000",
          "2024-04-09T14:00:00.000000000",
          "2024-04-09T15:00:00.000000000",
          "2024-04-09T16:00:00.000000000",
          "2024-04-09T17:00:00.000000000",
          "2024-04-09T18:00:00.000000000",
          "2024-04-09T19:00:00.000000000",
          "2024-04-09T20:00:00.000000000",
          "2024-04-09T21:00:00.000000000",
          "2024-04-09T22:00:00.000000000",
          "2024-04-09T23:00:00.000000000",
          "2024-04-10T00:00:00.000000000",
          "2024-04-10T01:00:00.000000000",
          "2024-04-10T02:00:00.000000000",
          "2024-04-10T03:00:00.000000000",
          "2024-04-10T04:00:00.000000000",
          "2024-04-10T05:00:00.000000000",
          "2024-04-10T06:00:00.000000000",
          "2024-04-10T07:00:00.000000000",
          "2024-04-10T08:00:00.000000000",
          "2024-04-10T09:00:00.000000000",
          "2024-04-10T10:00:00.000000000",
          "2024-04-10T11:00:00.000000000",
          "2024-04-10T12:00:00.000000000",
          "2024-04-10T13:00:00.000000000",
          "2024-04-10T14:00:00.000000000",
          "2024-04-10T15:00:00.000000000",
          "2024-04-10T16:00:00.000000000",
          "2024-04-10T17:00:00.000000000",
          "2024-04-10T18:00:00.000000000",
          "2024-04-10T19:00:00.000000000",
          "2024-04-10T20:00:00.000000000",
          "2024-04-10T21:00:00.000000000",
          "2024-04-10T22:00:00.000000000",
          "2024-04-10T23:00:00.000000000",
          "2024-04-11T00:00:00.000000000",
          "2024-04-11T01:00:00.000000000",
          "2024-04-11T02:00:00.000000000",
          "2024-04-11T03:00:00.000000000",
          "2024-04-11T04:00:00.000000000",
          "2024-04-11T05:00:00.000000000",
          "2024-04-11T06:00:00.000000000",
          "2024-04-11T07:00:00.000000000",
          "2024-04-11T08:00:00.000000000",
          "2024-04-11T09:00:00.000000000",
          "2024-04-11T10:00:00.000000000",
          "2024-04-11T11:00:00.000000000",
          "2024-04-11T12:00:00.000000000",
          "2024-04-11T13:00:00.000000000",
          "2024-04-11T14:00:00.000000000",
          "2024-04-11T15:00:00.000000000",
          "2024-04-11T16:00:00.000000000",
          "2024-04-11T17:00:00.000000000",
          "2024-04-11T18:00:00.000000000",
          "2024-04-11T19:00:00.000000000",
          "2024-04-11T20:00:00.000000000",
          "2024-04-11T21:00:00.000000000",
          "2024-04-11T22:00:00.000000000",
          "2024-04-11T23:00:00.000000000",
          "2024-04-12T00:00:00.000000000",
          "2024-04-12T01:00:00.000000000",
          "2024-04-12T02:00:00.000000000",
          "2024-04-12T03:00:00.000000000",
          "2024-04-12T04:00:00.000000000",
          "2024-04-12T05:00:00.000000000",
          "2024-04-12T06:00:00.000000000",
          "2024-04-12T07:00:00.000000000",
          "2024-04-12T08:00:00.000000000",
          "2024-04-12T09:00:00.000000000",
          "2024-04-12T10:00:00.000000000",
          "2024-04-12T11:00:00.000000000",
          "2024-04-12T12:00:00.000000000",
          "2024-04-12T13:00:00.000000000",
          "2024-04-12T14:00:00.000000000",
          "2024-04-12T15:00:00.000000000",
          "2024-04-12T16:00:00.000000000",
          "2024-04-12T17:00:00.000000000",
          "2024-04-12T18:00:00.000000000",
          "2024-04-12T19:00:00.000000000",
          "2024-04-12T20:00:00.000000000",
          "2024-04-12T21:00:00.000000000",
          "2024-04-12T22:00:00.000000000",
          "2024-04-12T23:00:00.000000000",
          "2024-04-13T00:00:00.000000000",
          "2024-04-13T01:00:00.000000000",
          "2024-04-13T02:00:00.000000000",
          "2024-04-13T03:00:00.000000000",
          "2024-04-13T04:00:00.000000000",
          "2024-04-13T05:00:00.000000000",
          "2024-04-13T06:00:00.000000000",
          "2024-04-13T07:00:00.000000000",
          "2024-04-13T08:00:00.000000000",
          "2024-04-13T09:00:00.000000000",
          "2024-04-13T10:00:00.000000000",
          "2024-04-13T11:00:00.000000000",
          "2024-04-13T12:00:00.000000000",
          "2024-04-13T13:00:00.000000000",
          "2024-04-13T14:00:00.000000000",
          "2024-04-13T15:00:00.000000000",
          "2024-04-13T16:00:00.000000000",
          "2024-04-13T17:00:00.000000000",
          "2024-04-13T18:00:00.000000000",
          "2024-04-13T19:00:00.000000000",
          "2024-04-13T20:00:00.000000000",
          "2024-04-13T21:00:00.000000000",
          "2024-04-13T22:00:00.000000000",
          "2024-04-13T23:00:00.000000000",
          "2024-04-14T00:00:00.000000000",
          "2024-04-14T01:00:00.000000000",
          "2024-04-14T02:00:00.000000000",
          "2024-04-14T03:00:00.000000000",
          "2024-04-14T04:00:00.000000000",
          "2024-04-14T05:00:00.000000000",
          "2024-04-14T06:00:00.000000000",
          "2024-04-14T07:00:00.000000000",
          "2024-04-14T08:00:00.000000000",
          "2024-04-14T09:00:00.000000000",
          "2024-04-14T10:00:00.000000000",
          "2024-04-14T11:00:00.000000000",
          "2024-04-14T12:00:00.000000000",
          "2024-04-14T13:00:00.000000000",
          "2024-04-14T14:00:00.000000000",
          "2024-04-14T15:00:00.000000000",
          "2024-04-14T16:00:00.000000000",
          "2024-04-14T17:00:00.000000000",
          "2024-04-14T18:00:00.000000000",
          "2024-04-14T19:00:00.000000000",
          "2024-04-14T20:00:00.000000000",
          "2024-04-14T21:00:00.000000000",
          "2024-04-14T22:00:00.000000000",
          "2024-04-14T23:00:00.000000000",
          "2024-04-15T00:00:00.000000000",
          "2024-04-15T01:00:00.000000000",
          "2024-04-15T02:00:00.000000000",
          "2024-04-15T03:00:00.000000000",
          "2024-04-15T04:00:00.000000000",
          "2024-04-15T05:00:00.000000000",
          "2024-04-15T06:00:00.000000000",
          "2024-04-15T07:00:00.000000000",
          "2024-04-15T08:00:00.000000000",
          "2024-04-15T09:00:00.000000000",
          "2024-04-15T10:00:00.000000000",
          "2024-04-15T11:00:00.000000000",
          "2024-04-15T12:00:00.000000000",
          "2024-04-15T13:00:00.000000000",
          "2024-04-15T14:00:00.000000000",
          "2024-04-15T15:00:00.000000000",
          "2024-04-15T16:00:00.000000000",
          "2024-04-15T17:00:00.000000000",
          "2024-04-15T18:00:00.000000000",
          "2024-04-15T19:00:00.000000000",
          "2024-04-15T20:00:00.000000000",
          "2024-04-15T21:00:00.000000000",
          "2024-04-15T22:00:00.000000000",
          "2024-04-15T23:00:00.000000000",
          "2024-04-16T00:00:00.000000000",
          "2024-04-16T01:00:00.000000000",
          "2024-04-16T02:00:00.000000000",
          "2024-04-16T03:00:00.000000000",
          "2024-04-16T04:00:00.000000000",
          "2024-04-16T05:00:00.000000000",
          "2024-04-16T06:00:00.000000000",
          "2024-04-16T07:00:00.000000000",
          "2024-04-16T08:00:00.000000000",
          "2024-04-16T09:00:00.000000000",
          "2024-04-16T10:00:00.000000000",
          "2024-04-16T11:00:00.000000000",
          "2024-04-16T12:00:00.000000000",
          "2024-04-16T13:00:00.000000000",
          "2024-04-16T14:00:00.000000000",
          "2024-04-16T15:00:00.000000000",
          "2024-04-16T16:00:00.000000000",
          "2024-04-16T17:00:00.000000000",
          "2024-04-16T18:00:00.000000000",
          "2024-04-16T19:00:00.000000000",
          "2024-04-16T20:00:00.000000000",
          "2024-04-16T21:00:00.000000000",
          "2024-04-16T22:00:00.000000000",
          "2024-04-16T23:00:00.000000000",
          "2024-04-17T00:00:00.000000000",
          "2024-04-17T01:00:00.000000000",
          "2024-04-17T02:00:00.000000000",
          "2024-04-17T03:00:00.000000000",
          "2024-04-17T04:00:00.000000000",
          "2024-04-17T05:00:00.000000000",
          "2024-04-17T06:00:00.000000000",
          "2024-04-17T07:00:00.000000000",
          "2024-04-17T08:00:00.000000000",
          "2024-04-17T09:00:00.000000000",
          "2024-04-17T10:00:00.000000000",
          "2024-04-17T11:00:00.000000000",
          "2024-04-17T12:00:00.000000000",
          "2024-04-17T13:00:00.000000000",
          "2024-04-17T14:00:00.000000000",
          "2024-04-17T15:00:00.000000000",
          "2024-04-17T16:00:00.000000000",
          "2024-04-17T17:00:00.000000000",
          "2024-04-17T18:00:00.000000000",
          "2024-04-17T19:00:00.000000000",
          "2024-04-17T20:00:00.000000000",
          "2024-04-17T21:00:00.000000000",
          "2024-04-17T22:00:00.000000000",
          "2024-04-17T23:00:00.000000000",
          "2024-04-18T00:00:00.000000000",
          "2024-04-18T01:00:00.000000000",
          "2024-04-18T02:00:00.000000000",
          "2024-04-18T03:00:00.000000000",
          "2024-04-18T04:00:00.000000000",
          "2024-04-18T05:00:00.000000000",
          "2024-04-18T06:00:00.000000000",
          "2024-04-18T07:00:00.000000000",
          "2024-04-18T08:00:00.000000000",
          "2024-04-18T09:00:00.000000000",
          "2024-04-18T10:00:00.000000000",
          "2024-04-18T11:00:00.000000000",
          "2024-04-18T12:00:00.000000000",
          "2024-04-18T13:00:00.000000000",
          "2024-04-18T14:00:00.000000000",
          "2024-04-18T15:00:00.000000000",
          "2024-04-18T16:00:00.000000000",
          "2024-04-18T17:00:00.000000000",
          "2024-04-18T18:00:00.000000000",
          "2024-04-18T19:00:00.000000000",
          "2024-04-18T20:00:00.000000000",
          "2024-04-18T21:00:00.000000000",
          "2024-04-18T22:00:00.000000000",
          "2024-04-18T23:00:00.000000000",
          "2024-04-19T00:00:00.000000000",
          "2024-04-19T01:00:00.000000000",
          "2024-04-19T02:00:00.000000000",
          "2024-04-19T03:00:00.000000000",
          "2024-04-19T04:00:00.000000000",
          "2024-04-19T05:00:00.000000000",
          "2024-04-19T06:00:00.000000000",
          "2024-04-19T07:00:00.000000000",
          "2024-04-19T08:00:00.000000000",
          "2024-04-19T09:00:00.000000000",
          "2024-04-19T10:00:00.000000000",
          "2024-04-19T11:00:00.000000000",
          "2024-04-19T12:00:00.000000000",
          "2024-04-19T13:00:00.000000000",
          "2024-04-19T14:00:00.000000000",
          "2024-04-19T15:00:00.000000000",
          "2024-04-19T16:00:00.000000000",
          "2024-04-19T17:00:00.000000000",
          "2024-04-19T18:00:00.000000000",
          "2024-04-19T19:00:00.000000000",
          "2024-04-19T20:00:00.000000000",
          "2024-04-19T21:00:00.000000000",
          "2024-04-19T22:00:00.000000000",
          "2024-04-19T23:00:00.000000000",
          "2024-04-20T00:00:00.000000000",
          "2024-04-20T01:00:00.000000000",
          "2024-04-20T02:00:00.000000000",
          "2024-04-20T03:00:00.000000000",
          "2024-04-20T04:00:00.000000000",
          "2024-04-20T05:00:00.000000000",
          "2024-04-20T06:00:00.000000000",
          "2024-04-20T07:00:00.000000000",
          "2024-04-20T08:00:00.000000000",
          "2024-04-20T09:00:00.000000000",
          "2024-04-20T10:00:00.000000000",
          "2024-04-20T11:00:00.000000000",
          "2024-04-20T12:00:00.000000000",
          "2024-04-20T13:00:00.000000000",
          "2024-04-20T14:00:00.000000000",
          "2024-04-20T15:00:00.000000000",
          "2024-04-20T16:00:00.000000000",
          "2024-04-20T17:00:00.000000000",
          "2024-04-20T18:00:00.000000000",
          "2024-04-20T19:00:00.000000000",
          "2024-04-20T20:00:00.000000000",
          "2024-04-20T21:00:00.000000000",
          "2024-04-20T22:00:00.000000000",
          "2024-04-20T23:00:00.000000000",
          "2024-04-21T00:00:00.000000000",
          "2024-04-21T01:00:00.000000000",
          "2024-04-21T02:00:00.000000000",
          "2024-04-21T03:00:00.000000000"
         ],
         "xaxis": "x",
         "y": {
          "bdata": "AAAAAQoHBgULDgsIBg8JBAsHAQMCAAMAAAADCxMaCAcFDgoOHyQ+KRcPAgQDAgEAAAADChEcEwsLEw8PHSdQJxwMBQEFAgIBAAAECxIlEgkKDgUPFygyFxYNAwQIAAAAAAACAxEUCgcCAwIMCw8vDAcDAgIEAwACAAACChAMCAsKEA8WHCE5JhcIBAUFAAEBAAADAgUHBwwNEhgMDw8LCwwEAgIBAAEBAQEBBAgHCQIMDgwPEwwKCwcGCgIAAgAAAAECDg4OBgcIBwwRGSs5LBsIBgQCAgEAAAAEAgoICAYHBAEDBQsVEAYJBAMDAgAAAAABAgMHBQEEBAILAggQCAMEAgEDAAAAAAADBAkeEQcKCxUNDjE+HxUIBgQDAAMAAAACCg8XEw8LDxAPFzE0IQ0JAwMHAQEBAAAAAgUFCgsRCw4UCgUPCgoKAgUBAwEBAAAAAw8EBQQLEgoOCwsLCAwIAQQBAgAAAAIDChQhCQ4MEhAiHB87JxobBQADBQEAAAADDxomEgkMEhEXFzBVLSEMCgUDAAAAAAADDBoaEAMODxUQHidKNh0LCwQEAwECAQADDQ4NCA0OBg8VFhouIhIKBgkGBQEABQQCCxEMEQ0HCgYLGzA8LxoGCQUDAgUCAQIAAgkLCAkKBQoSDwgNFQoCAgUDAQEAAAEAAgUFCREJGQsUFQ8MDhUMAQEEAwIEAAQFDxseEAgMFRAWGjg/Lx4LDAYEAAABAAACCxssERMQEhMWHjBSIBkODgQEAgIAAAAFER4uGBALDA8XEBQ7ISIIDAQHAQABAAACDgwOCQgGDA8SFyo0HxMIBgECAwIAAAADCw8XCwwLEw0WGTFEHB4RBgkIAgECBAAAAgQFDQsSERQXEA0JDxoIAgoABQEDAQ==",
          "dtype": "i1"
         },
         "yaxis": "y"
        },
        {
         "marker": {
          "color": "green",
          "size": 10
         },
         "mode": "markers",
         "name": "Actual Value",
         "type": "scatter",
         "x": [
          "2024-04-21T03:00:00.000000000"
         ],
         "y": [
          1
         ]
        },
        {
         "marker": {
          "color": "red",
          "size": 12,
          "symbol": "x"
         },
         "mode": "markers",
         "name": "Prediction",
         "type": "scatter",
         "x": [
          "2024-04-21T03:00:00.000000000"
         ],
         "y": {
          "bdata": "AQAAAA==",
          "dtype": "i4"
         }
        }
       ],
       "layout": {
        "legend": {
         "tracegroupgap": 0
        },
        "template": {
         "data": {
          "bar": [
           {
            "error_x": {
             "color": "#2a3f5f"
            },
            "error_y": {
             "color": "#2a3f5f"
            },
            "marker": {
             "line": {
              "color": "white",
              "width": 0.5
             },
             "pattern": {
              "fillmode": "overlay",
              "size": 10,
              "solidity": 0.2
             }
            },
            "type": "bar"
           }
          ],
          "barpolar": [
           {
            "marker": {
             "line": {
              "color": "white",
              "width": 0.5
             },
             "pattern": {
              "fillmode": "overlay",
              "size": 10,
              "solidity": 0.2
             }
            },
            "type": "barpolar"
           }
          ],
          "carpet": [
           {
            "aaxis": {
             "endlinecolor": "#2a3f5f",
             "gridcolor": "#C8D4E3",
             "linecolor": "#C8D4E3",
             "minorgridcolor": "#C8D4E3",
             "startlinecolor": "#2a3f5f"
            },
            "baxis": {
             "endlinecolor": "#2a3f5f",
             "gridcolor": "#C8D4E3",
             "linecolor": "#C8D4E3",
             "minorgridcolor": "#C8D4E3",
             "startlinecolor": "#2a3f5f"
            },
            "type": "carpet"
           }
          ],
          "choropleth": [
           {
            "colorbar": {
             "outlinewidth": 0,
             "ticks": ""
            },
            "type": "choropleth"
           }
          ],
          "contour": [
           {
            "colorbar": {
             "outlinewidth": 0,
             "ticks": ""
            },
            "colorscale": [
             [
              0,
              "#0d0887"
             ],
             [
              0.1111111111111111,
              "#46039f"
             ],
             [
              0.2222222222222222,
              "#7201a8"
             ],
             [
              0.3333333333333333,
              "#9c179e"
             ],
             [
              0.4444444444444444,
              "#bd3786"
             ],
             [
              0.5555555555555556,
              "#d8576b"
             ],
             [
              0.6666666666666666,
              "#ed7953"
             ],
             [
              0.7777777777777778,
              "#fb9f3a"
             ],
             [
              0.8888888888888888,
              "#fdca26"
             ],
             [
              1,
              "#f0f921"
             ]
            ],
            "type": "contour"
           }
          ],
          "contourcarpet": [
           {
            "colorbar": {
             "outlinewidth": 0,
             "ticks": ""
            },
            "type": "contourcarpet"
           }
          ],
          "heatmap": [
           {
            "colorbar": {
             "outlinewidth": 0,
             "ticks": ""
            },
            "colorscale": [
             [
              0,
              "#0d0887"
             ],
             [
              0.1111111111111111,
              "#46039f"
             ],
             [
              0.2222222222222222,
              "#7201a8"
             ],
             [
              0.3333333333333333,
              "#9c179e"
             ],
             [
              0.4444444444444444,
              "#bd3786"
             ],
             [
              0.5555555555555556,
              "#d8576b"
             ],
             [
              0.6666666666666666,
              "#ed7953"
             ],
             [
              0.7777777777777778,
              "#fb9f3a"
             ],
             [
              0.8888888888888888,
              "#fdca26"
             ],
             [
              1,
              "#f0f921"
             ]
            ],
            "type": "heatmap"
           }
          ],
          "histogram": [
           {
            "marker": {
             "pattern": {
              "fillmode": "overlay",
              "size": 10,
              "solidity": 0.2
             }
            },
            "type": "histogram"
           }
          ],
          "histogram2d": [
           {
            "colorbar": {
             "outlinewidth": 0,
             "ticks": ""
            },
            "colorscale": [
             [
              0,
              "#0d0887"
             ],
             [
              0.1111111111111111,
              "#46039f"
             ],
             [
              0.2222222222222222,
              "#7201a8"
             ],
             [
              0.3333333333333333,
              "#9c179e"
             ],
             [
              0.4444444444444444,
              "#bd3786"
             ],
             [
              0.5555555555555556,
              "#d8576b"
             ],
             [
              0.6666666666666666,
              "#ed7953"
             ],
             [
              0.7777777777777778,
              "#fb9f3a"
             ],
             [
              0.8888888888888888,
              "#fdca26"
             ],
             [
              1,
              "#f0f921"
             ]
            ],
            "type": "histogram2d"
           }
          ],
          "histogram2dcontour": [
           {
            "colorbar": {
             "outlinewidth": 0,
             "ticks": ""
            },
            "colorscale": [
             [
              0,
              "#0d0887"
             ],
             [
              0.1111111111111111,
              "#46039f"
             ],
             [
              0.2222222222222222,
              "#7201a8"
             ],
             [
              0.3333333333333333,
              "#9c179e"
             ],
             [
              0.4444444444444444,
              "#bd3786"
             ],
             [
              0.5555555555555556,
              "#d8576b"
             ],
             [
              0.6666666666666666,
              "#ed7953"
             ],
             [
              0.7777777777777778,
              "#fb9f3a"
             ],
             [
              0.8888888888888888,
              "#fdca26"
             ],
             [
              1,
              "#f0f921"
             ]
            ],
            "type": "histogram2dcontour"
           }
          ],
          "mesh3d": [
           {
            "colorbar": {
             "outlinewidth": 0,
             "ticks": ""
            },
            "type": "mesh3d"
           }
          ],
          "parcoords": [
           {
            "line": {
             "colorbar": {
              "outlinewidth": 0,
              "ticks": ""
             }
            },
            "type": "parcoords"
           }
          ],
          "pie": [
           {
            "automargin": true,
            "type": "pie"
           }
          ],
          "scatter": [
           {
            "fillpattern": {
             "fillmode": "overlay",
             "size": 10,
             "solidity": 0.2
            },
            "type": "scatter"
           }
          ],
          "scatter3d": [
           {
            "line": {
             "colorbar": {
              "outlinewidth": 0,
              "ticks": ""
             }
            },
            "marker": {
             "colorbar": {
              "outlinewidth": 0,
              "ticks": ""
             }
            },
            "type": "scatter3d"
           }
          ],
          "scattercarpet": [
           {
            "marker": {
             "colorbar": {
              "outlinewidth": 0,
              "ticks": ""
             }
            },
            "type": "scattercarpet"
           }
          ],
          "scattergeo": [
           {
            "marker": {
             "colorbar": {
              "outlinewidth": 0,
              "ticks": ""
             }
            },
            "type": "scattergeo"
           }
          ],
          "scattergl": [
           {
            "marker": {
             "colorbar": {
              "outlinewidth": 0,
              "ticks": ""
             }
            },
            "type": "scattergl"
           }
          ],
          "scattermap": [
           {
            "marker": {
             "colorbar": {
              "outlinewidth": 0,
              "ticks": ""
             }
            },
            "type": "scattermap"
           }
          ],
          "scattermapbox": [
           {
            "marker": {
             "colorbar": {
              "outlinewidth": 0,
              "ticks": ""
             }
            },
            "type": "scattermapbox"
           }
          ],
          "scatterpolar": [
           {
            "marker": {
             "colorbar": {
              "outlinewidth": 0,
              "ticks": ""
             }
            },
            "type": "scatterpolar"
           }
          ],
          "scatterpolargl": [
           {
            "marker": {
             "colorbar": {
              "outlinewidth": 0,
              "ticks": ""
             }
            },
            "type": "scatterpolargl"
           }
          ],
          "scatterternary": [
           {
            "marker": {
             "colorbar": {
              "outlinewidth": 0,
              "ticks": ""
             }
            },
            "type": "scatterternary"
           }
          ],
          "surface": [
           {
            "colorbar": {
             "outlinewidth": 0,
             "ticks": ""
            },
            "colorscale": [
             [
              0,
              "#0d0887"
             ],
             [
              0.1111111111111111,
              "#46039f"
             ],
             [
              0.2222222222222222,
              "#7201a8"
             ],
             [
              0.3333333333333333,
              "#9c179e"
             ],
             [
              0.4444444444444444,
              "#bd3786"
             ],
             [
              0.5555555555555556,
              "#d8576b"
             ],
             [
              0.6666666666666666,
              "#ed7953"
             ],
             [
              0.7777777777777778,
              "#fb9f3a"
             ],
             [
              0.8888888888888888,
              "#fdca26"
             ],
             [
              1,
              "#f0f921"
             ]
            ],
            "type": "surface"
           }
          ],
          "table": [
           {
            "cells": {
             "fill": {
              "color": "#EBF0F8"
             },
             "line": {
              "color": "white"
             }
            },
            "header": {
             "fill": {
              "color": "#C8D4E3"
             },
             "line": {
              "color": "white"
             }
            },
            "type": "table"
           }
          ]
         },
         "layout": {
          "annotationdefaults": {
           "arrowcolor": "#2a3f5f",
           "arrowhead": 0,
           "arrowwidth": 1
          },
          "autotypenumbers": "strict",
          "coloraxis": {
           "colorbar": {
            "outlinewidth": 0,
            "ticks": ""
           }
          },
          "colorscale": {
           "diverging": [
            [
             0,
             "#8e0152"
            ],
            [
             0.1,
             "#c51b7d"
            ],
            [
             0.2,
             "#de77ae"
            ],
            [
             0.3,
             "#f1b6da"
            ],
            [
             0.4,
             "#fde0ef"
            ],
            [
             0.5,
             "#f7f7f7"
            ],
            [
             0.6,
             "#e6f5d0"
            ],
            [
             0.7,
             "#b8e186"
            ],
            [
             0.8,
             "#7fbc41"
            ],
            [
             0.9,
             "#4d9221"
            ],
            [
             1,
             "#276419"
            ]
           ],
           "sequential": [
            [
             0,
             "#0d0887"
            ],
            [
             0.1111111111111111,
             "#46039f"
            ],
            [
             0.2222222222222222,
             "#7201a8"
            ],
            [
             0.3333333333333333,
             "#9c179e"
            ],
            [
             0.4444444444444444,
             "#bd3786"
            ],
            [
             0.5555555555555556,
             "#d8576b"
            ],
            [
             0.6666666666666666,
             "#ed7953"
            ],
            [
             0.7777777777777778,
             "#fb9f3a"
            ],
            [
             0.8888888888888888,
             "#fdca26"
            ],
            [
             1,
             "#f0f921"
            ]
           ],
           "sequentialminus": [
            [
             0,
             "#0d0887"
            ],
            [
             0.1111111111111111,
             "#46039f"
            ],
            [
             0.2222222222222222,
             "#7201a8"
            ],
            [
             0.3333333333333333,
             "#9c179e"
            ],
            [
             0.4444444444444444,
             "#bd3786"
            ],
            [
             0.5555555555555556,
             "#d8576b"
            ],
            [
             0.6666666666666666,
             "#ed7953"
            ],
            [
             0.7777777777777778,
             "#fb9f3a"
            ],
            [
             0.8888888888888888,
             "#fdca26"
            ],
            [
             1,
             "#f0f921"
            ]
           ]
          },
          "colorway": [
           "#636efa",
           "#EF553B",
           "#00cc96",
           "#ab63fa",
           "#FFA15A",
           "#19d3f3",
           "#FF6692",
           "#B6E880",
           "#FF97FF",
           "#FECB52"
          ],
          "font": {
           "color": "#2a3f5f"
          },
          "geo": {
           "bgcolor": "white",
           "lakecolor": "white",
           "landcolor": "white",
           "showlakes": true,
           "showland": true,
           "subunitcolor": "#C8D4E3"
          },
          "hoverlabel": {
           "align": "left"
          },
          "hovermode": "closest",
          "mapbox": {
           "style": "light"
          },
          "paper_bgcolor": "white",
          "plot_bgcolor": "white",
          "polar": {
           "angularaxis": {
            "gridcolor": "#EBF0F8",
            "linecolor": "#EBF0F8",
            "ticks": ""
           },
           "bgcolor": "white",
           "radialaxis": {
            "gridcolor": "#EBF0F8",
            "linecolor": "#EBF0F8",
            "ticks": ""
           }
          },
          "scene": {
           "xaxis": {
            "backgroundcolor": "white",
            "gridcolor": "#DFE8F3",
            "gridwidth": 2,
            "linecolor": "#EBF0F8",
            "showbackground": true,
            "ticks": "",
            "zerolinecolor": "#EBF0F8"
           },
           "yaxis": {
            "backgroundcolor": "white",
            "gridcolor": "#DFE8F3",
            "gridwidth": 2,
            "linecolor": "#EBF0F8",
            "showbackground": true,
            "ticks": "",
            "zerolinecolor": "#EBF0F8"
           },
           "zaxis": {
            "backgroundcolor": "white",
            "gridcolor": "#DFE8F3",
            "gridwidth": 2,
            "linecolor": "#EBF0F8",
            "showbackground": true,
            "ticks": "",
            "zerolinecolor": "#EBF0F8"
           }
          },
          "shapedefaults": {
           "line": {
            "color": "#2a3f5f"
           }
          },
          "ternary": {
           "aaxis": {
            "gridcolor": "#DFE8F3",
            "linecolor": "#A2B1C6",
            "ticks": ""
           },
           "baxis": {
            "gridcolor": "#DFE8F3",
            "linecolor": "#A2B1C6",
            "ticks": ""
           },
           "bgcolor": "white",
           "caxis": {
            "gridcolor": "#DFE8F3",
            "linecolor": "#A2B1C6",
            "ticks": ""
           }
          },
          "title": {
           "x": 0.05
          },
          "xaxis": {
           "automargin": true,
           "gridcolor": "#EBF0F8",
           "linecolor": "#EBF0F8",
           "ticks": "",
           "title": {
            "standoff": 15
           },
           "zerolinecolor": "#EBF0F8",
           "zerolinewidth": 2
          },
          "yaxis": {
           "automargin": true,
           "gridcolor": "#EBF0F8",
           "linecolor": "#EBF0F8",
           "ticks": "",
           "title": {
            "standoff": 15
           },
           "zerolinecolor": "#EBF0F8",
           "zerolinewidth": 2
          }
         }
        },
        "title": {
         "text": "Pickup Hour: 2024-04-21 03:00:00, Location ID: 6822"
        },
        "xaxis": {
         "anchor": "y",
         "domain": [
          0,
          1
         ],
         "title": {
          "text": "Time"
         }
        },
        "yaxis": {
         "anchor": "x",
         "domain": [
          0,
          1
         ],
         "title": {
          "text": "Ride Counts"
         }
        }
       }
      }
     },
     "metadata": {},
     "output_type": "display_data"
    }
   ],
   "source": [
    "from src.plot_utils import plot_aggregated_time_series\n",
    "import pandas as pd\n",
    "predictions_series = pd.Series(predictions, index=X_test_reduced.index)\n",
    "plot_aggregated_time_series(X_test, y_test, row_id=50, predictions=predictions_series).show()\n"
   ]
  },
  {
   "cell_type": "code",
   "execution_count": null,
   "id": "29bdf42b",
   "metadata": {},
   "outputs": [],
   "source": []
  }
 ],
 "metadata": {
  "kernelspec": {
   "display_name": "Python 3",
   "language": "python",
   "name": "python3"
  },
  "language_info": {
   "codemirror_mode": {
    "name": "ipython",
    "version": 3
   },
   "file_extension": ".py",
   "mimetype": "text/x-python",
   "name": "python",
   "nbconvert_exporter": "python",
   "pygments_lexer": "ipython3",
   "version": "3.11.0"
  }
 },
 "nbformat": 4,
 "nbformat_minor": 5
}
